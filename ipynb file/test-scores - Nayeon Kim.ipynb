{
 "cells": [
  {
   "cell_type": "markdown",
   "id": "f305ecf6",
   "metadata": {
    "id": "f305ecf6"
   },
   "source": [
    "# 데이터 설명"
   ]
  },
  {
   "cell_type": "markdown",
   "id": "45fd5572",
   "metadata": {
    "id": "45fd5572"
   },
   "source": [
    "* school: 학교 이름\n",
    "* school_setting: 학교가 위치한 곳(Urban(도시), Suburban(교외), Rural(시골))\n",
    "* school_type: Public(공립학교), Non-public(사립학교)\n",
    "* classroom: 교실 종류?\n",
    "* teaching_method: Experimental(실험적 교육), Standard(기존 교육)\n",
    "* n_student: number of students in the class\n",
    "* student_id\n",
    "* gender\n",
    "* lunch: whether a student qualifies for free/subsidized lunch or not\n",
    "* pretest: 수업 전 진행한 시험 점수\n",
    "* posttest: 수업 후 진행한 시험 점수\n",
    "\n",
    "Typically, a pretest is given to students at the beginning of a course to determine their initial understanding of the measures stated in the learning objectives, and posttest is conducted just after completion of the course to determine what the students have learned.\n",
    "\n",
    "* 미국은 Suburban School이 대학 진학에 유리하며, 명문고등학교의 입지를 갖고 있음\n",
    "* Low-income children are eligible to receive reduced-price or free meals at school. Children in households with incomes below 130 percent of the poverty level or those receiving SNAP or TANF qualify for free meals. Those with family incomes between 130 and 185 percent of the poverty line qualify for reduced-price meals."
   ]
  },
  {
   "cell_type": "code",
   "execution_count": 1,
   "id": "7c73f4f2",
   "metadata": {
    "executionInfo": {
     "elapsed": 1005,
     "status": "ok",
     "timestamp": 1629943465008,
     "user": {
      "displayName": "todaycode오늘코드",
      "photoUrl": "https://lh3.googleusercontent.com/a-/AOh14GgLiO5i_xXRR_qAG77avSrsWiiI4KHJR6t4xysb=s64",
      "userId": "06313463015165663090"
     },
     "user_tz": -540
    },
    "id": "7c73f4f2"
   },
   "outputs": [],
   "source": [
    "import pandas as pd\n",
    "import seaborn as sns\n",
    "import matplotlib.pyplot as plt\n",
    "import numpy as np"
   ]
  },
  {
   "cell_type": "code",
   "execution_count": 2,
   "id": "606aad5a",
   "metadata": {
    "colab": {
     "base_uri": "https://localhost:8080/"
    },
    "executionInfo": {
     "elapsed": 376,
     "status": "ok",
     "timestamp": 1629943473347,
     "user": {
      "displayName": "todaycode오늘코드",
      "photoUrl": "https://lh3.googleusercontent.com/a-/AOh14GgLiO5i_xXRR_qAG77avSrsWiiI4KHJR6t4xysb=s64",
      "userId": "06313463015165663090"
     },
     "user_tz": -540
    },
    "id": "606aad5a",
    "outputId": "42ac85a3-ea94-4281-edd7-7dfd55f7ddb6"
   },
   "outputs": [
    {
     "name": "stdout",
     "output_type": "stream",
     "text": [
      "<class 'pandas.core.frame.DataFrame'>\n",
      "RangeIndex: 2133 entries, 0 to 2132\n",
      "Data columns (total 11 columns):\n",
      " #   Column           Non-Null Count  Dtype  \n",
      "---  ------           --------------  -----  \n",
      " 0   school           2133 non-null   object \n",
      " 1   school_setting   2133 non-null   object \n",
      " 2   school_type      2133 non-null   object \n",
      " 3   classroom        2133 non-null   object \n",
      " 4   teaching_method  2133 non-null   object \n",
      " 5   n_student        2133 non-null   float64\n",
      " 6   student_id       2133 non-null   object \n",
      " 7   gender           2133 non-null   object \n",
      " 8   lunch            2133 non-null   object \n",
      " 9   pretest          2133 non-null   float64\n",
      " 10  posttest         2133 non-null   float64\n",
      "dtypes: float64(3), object(8)\n",
      "memory usage: 183.4+ KB\n"
     ]
    }
   ],
   "source": [
    "df = pd.read_csv(\"data/test_scores.csv\")\n",
    "df.info()"
   ]
  },
  {
   "cell_type": "code",
   "execution_count": 3,
   "id": "b289ba23",
   "metadata": {},
   "outputs": [
    {
     "data": {
      "text/plain": [
       "array([20., 21., 18., 15., 16., 19., 17., 28., 27., 24., 14., 22., 23.,\n",
       "       31., 25., 26., 29., 30.])"
      ]
     },
     "execution_count": 3,
     "metadata": {},
     "output_type": "execute_result"
    }
   ],
   "source": [
    "df[\"n_student\"].unique()"
   ]
  },
  {
   "cell_type": "code",
   "execution_count": 4,
   "id": "75787eff",
   "metadata": {
    "colab": {
     "base_uri": "https://localhost:8080/",
     "height": 200
    },
    "executionInfo": {
     "elapsed": 477,
     "status": "ok",
     "timestamp": 1629943476934,
     "user": {
      "displayName": "todaycode오늘코드",
      "photoUrl": "https://lh3.googleusercontent.com/a-/AOh14GgLiO5i_xXRR_qAG77avSrsWiiI4KHJR6t4xysb=s64",
      "userId": "06313463015165663090"
     },
     "user_tz": -540
    },
    "id": "75787eff",
    "outputId": "7a515205-fe95-4e53-e587-a8dc53f4b399"
   },
   "outputs": [
    {
     "data": {
      "text/html": [
       "<div>\n",
       "<style scoped>\n",
       "    .dataframe tbody tr th:only-of-type {\n",
       "        vertical-align: middle;\n",
       "    }\n",
       "\n",
       "    .dataframe tbody tr th {\n",
       "        vertical-align: top;\n",
       "    }\n",
       "\n",
       "    .dataframe thead th {\n",
       "        text-align: right;\n",
       "    }\n",
       "</style>\n",
       "<table border=\"1\" class=\"dataframe\">\n",
       "  <thead>\n",
       "    <tr style=\"text-align: right;\">\n",
       "      <th></th>\n",
       "      <th>school</th>\n",
       "      <th>school_setting</th>\n",
       "      <th>school_type</th>\n",
       "      <th>classroom</th>\n",
       "      <th>teaching_method</th>\n",
       "      <th>n_student</th>\n",
       "      <th>student_id</th>\n",
       "      <th>gender</th>\n",
       "      <th>lunch</th>\n",
       "      <th>pretest</th>\n",
       "      <th>posttest</th>\n",
       "    </tr>\n",
       "  </thead>\n",
       "  <tbody>\n",
       "    <tr>\n",
       "      <th>2128</th>\n",
       "      <td>ZOWMK</td>\n",
       "      <td>Urban</td>\n",
       "      <td>Public</td>\n",
       "      <td>ZBH</td>\n",
       "      <td>Standard</td>\n",
       "      <td>30.0</td>\n",
       "      <td>T8LSK</td>\n",
       "      <td>Female</td>\n",
       "      <td>Does not qualify</td>\n",
       "      <td>39.0</td>\n",
       "      <td>55.0</td>\n",
       "    </tr>\n",
       "    <tr>\n",
       "      <th>2129</th>\n",
       "      <td>ZOWMK</td>\n",
       "      <td>Urban</td>\n",
       "      <td>Public</td>\n",
       "      <td>ZBH</td>\n",
       "      <td>Standard</td>\n",
       "      <td>30.0</td>\n",
       "      <td>VNP26</td>\n",
       "      <td>Female</td>\n",
       "      <td>Qualifies for reduced/free lunch</td>\n",
       "      <td>38.0</td>\n",
       "      <td>46.0</td>\n",
       "    </tr>\n",
       "    <tr>\n",
       "      <th>2130</th>\n",
       "      <td>ZOWMK</td>\n",
       "      <td>Urban</td>\n",
       "      <td>Public</td>\n",
       "      <td>ZBH</td>\n",
       "      <td>Standard</td>\n",
       "      <td>30.0</td>\n",
       "      <td>YDR1Z</td>\n",
       "      <td>Female</td>\n",
       "      <td>Qualifies for reduced/free lunch</td>\n",
       "      <td>45.0</td>\n",
       "      <td>51.0</td>\n",
       "    </tr>\n",
       "    <tr>\n",
       "      <th>2131</th>\n",
       "      <td>ZOWMK</td>\n",
       "      <td>Urban</td>\n",
       "      <td>Public</td>\n",
       "      <td>ZBH</td>\n",
       "      <td>Standard</td>\n",
       "      <td>30.0</td>\n",
       "      <td>YUEIH</td>\n",
       "      <td>Male</td>\n",
       "      <td>Qualifies for reduced/free lunch</td>\n",
       "      <td>46.0</td>\n",
       "      <td>53.0</td>\n",
       "    </tr>\n",
       "    <tr>\n",
       "      <th>2132</th>\n",
       "      <td>ZOWMK</td>\n",
       "      <td>Urban</td>\n",
       "      <td>Public</td>\n",
       "      <td>ZBH</td>\n",
       "      <td>Standard</td>\n",
       "      <td>30.0</td>\n",
       "      <td>ZVCQ8</td>\n",
       "      <td>Male</td>\n",
       "      <td>Qualifies for reduced/free lunch</td>\n",
       "      <td>41.0</td>\n",
       "      <td>48.0</td>\n",
       "    </tr>\n",
       "  </tbody>\n",
       "</table>\n",
       "</div>"
      ],
      "text/plain": [
       "     school school_setting school_type classroom teaching_method  n_student  \\\n",
       "2128  ZOWMK          Urban      Public       ZBH        Standard       30.0   \n",
       "2129  ZOWMK          Urban      Public       ZBH        Standard       30.0   \n",
       "2130  ZOWMK          Urban      Public       ZBH        Standard       30.0   \n",
       "2131  ZOWMK          Urban      Public       ZBH        Standard       30.0   \n",
       "2132  ZOWMK          Urban      Public       ZBH        Standard       30.0   \n",
       "\n",
       "     student_id  gender                             lunch  pretest  posttest  \n",
       "2128      T8LSK  Female                  Does not qualify     39.0      55.0  \n",
       "2129      VNP26  Female  Qualifies for reduced/free lunch     38.0      46.0  \n",
       "2130      YDR1Z  Female  Qualifies for reduced/free lunch     45.0      51.0  \n",
       "2131      YUEIH    Male  Qualifies for reduced/free lunch     46.0      53.0  \n",
       "2132      ZVCQ8    Male  Qualifies for reduced/free lunch     41.0      48.0  "
      ]
     },
     "execution_count": 4,
     "metadata": {},
     "output_type": "execute_result"
    }
   ],
   "source": [
    "df.tail()"
   ]
  },
  {
   "cell_type": "code",
   "execution_count": 5,
   "id": "da809e56",
   "metadata": {
    "colab": {
     "base_uri": "https://localhost:8080/"
    },
    "executionInfo": {
     "elapsed": 388,
     "status": "ok",
     "timestamp": 1629943480738,
     "user": {
      "displayName": "todaycode오늘코드",
      "photoUrl": "https://lh3.googleusercontent.com/a-/AOh14GgLiO5i_xXRR_qAG77avSrsWiiI4KHJR6t4xysb=s64",
      "userId": "06313463015165663090"
     },
     "user_tz": -540
    },
    "id": "da809e56",
    "outputId": "20b2a9f4-8a9b-4a3a-d616-9057f0eb506b"
   },
   "outputs": [
    {
     "data": {
      "text/plain": [
       "school             0\n",
       "school_setting     0\n",
       "school_type        0\n",
       "classroom          0\n",
       "teaching_method    0\n",
       "n_student          0\n",
       "student_id         0\n",
       "gender             0\n",
       "lunch              0\n",
       "pretest            0\n",
       "posttest           0\n",
       "dtype: int64"
      ]
     },
     "execution_count": 5,
     "metadata": {},
     "output_type": "execute_result"
    }
   ],
   "source": [
    "df.isnull().sum()"
   ]
  },
  {
   "cell_type": "code",
   "execution_count": 6,
   "id": "XNVwEpm4NBS4",
   "metadata": {
    "colab": {
     "base_uri": "https://localhost:8080/",
     "height": 385
    },
    "executionInfo": {
     "elapsed": 1614,
     "status": "ok",
     "timestamp": 1629943538160,
     "user": {
      "displayName": "todaycode오늘코드",
      "photoUrl": "https://lh3.googleusercontent.com/a-/AOh14GgLiO5i_xXRR_qAG77avSrsWiiI4KHJR6t4xysb=s64",
      "userId": "06313463015165663090"
     },
     "user_tz": -540
    },
    "id": "XNVwEpm4NBS4",
    "outputId": "10462df4-5fa1-4b46-d835-4fbd661dca13"
   },
   "outputs": [
    {
     "data": {
      "text/plain": [
       "<seaborn.axisgrid.FacetGrid at 0x7fdff1e677c0>"
      ]
     },
     "execution_count": 6,
     "metadata": {},
     "output_type": "execute_result"
    },
    {
     "data": {
      "image/png": "[encoded data removed]",
      "text/plain": [
       "<Figure size 436.5x360 with 1 Axes>"
      ]
     },
     "metadata": {
      "needs_background": "light"
     },
     "output_type": "display_data"
    }
   ],
   "source": [
    "sns.displot(df[[\"pretest\", \"posttest\"]], kde=True)"
   ]
  },
  {
   "cell_type": "code",
   "execution_count": 7,
   "id": "989adf46",
   "metadata": {
    "colab": {
     "base_uri": "https://localhost:8080/",
     "height": 380
    },
    "executionInfo": {
     "elapsed": 559,
     "status": "ok",
     "timestamp": 1629943482949,
     "user": {
      "displayName": "todaycode오늘코드",
      "photoUrl": "https://lh3.googleusercontent.com/a-/AOh14GgLiO5i_xXRR_qAG77avSrsWiiI4KHJR6t4xysb=s64",
      "userId": "06313463015165663090"
     },
     "user_tz": -540
    },
    "id": "989adf46",
    "outputId": "97053fe0-e0d6-4c2b-b43d-6104eddb6176"
   },
   "outputs": [
    {
     "name": "stderr",
     "output_type": "stream",
     "text": [
      "/opt/anaconda3/lib/python3.8/site-packages/seaborn/distributions.py:2557: FutureWarning: `distplot` is a deprecated function and will be removed in a future version. Please adapt your code to use either `displot` (a figure-level function with similar flexibility) or `histplot` (an axes-level function for histograms).\n",
      "  warnings.warn(msg, FutureWarning)\n",
      "/opt/anaconda3/lib/python3.8/site-packages/seaborn/distributions.py:2557: FutureWarning: `distplot` is a deprecated function and will be removed in a future version. Please adapt your code to use either `displot` (a figure-level function with similar flexibility) or `histplot` (an axes-level function for histograms).\n",
      "  warnings.warn(msg, FutureWarning)\n"
     ]
    },
    {
     "data": {
      "text/plain": [
       "<AxesSubplot:xlabel='posttest', ylabel='Density'>"
      ]
     },
     "execution_count": 7,
     "metadata": {},
     "output_type": "execute_result"
    },
    {
     "data": {
      "image/png": "[encoded data removed]",
      "text/plain": [
       "<Figure size 432x288 with 1 Axes>"
      ]
     },
     "metadata": {
      "needs_background": "light"
     },
     "output_type": "display_data"
    }
   ],
   "source": [
    "sns.distplot(df[\"pretest\"])\n",
    "sns.distplot(df[\"posttest\"])"
   ]
  },
  {
   "cell_type": "markdown",
   "id": "113d61d1",
   "metadata": {
    "id": "113d61d1"
   },
   "source": [
    "# 가설 설정 & 데이터 분석"
   ]
  },
  {
   "cell_type": "markdown",
   "id": "b4cbebf4",
   "metadata": {
    "id": "b4cbebf4"
   },
   "source": [
    "## 학교 위치(도시, 교외, 시골)에 따라 "
   ]
  },
  {
   "cell_type": "markdown",
   "id": "8bcb0b5b",
   "metadata": {
    "id": "8bcb0b5b"
   },
   "source": [
    "### pretest, posttest 결과가 다를 것이다."
   ]
  },
  {
   "cell_type": "code",
   "execution_count": 8,
   "id": "a8f5bf8d",
   "metadata": {
    "colab": {
     "base_uri": "https://localhost:8080/",
     "height": 252
    },
    "executionInfo": {
     "elapsed": 528,
     "status": "ok",
     "timestamp": 1629943558599,
     "user": {
      "displayName": "todaycode오늘코드",
      "photoUrl": "https://lh3.googleusercontent.com/a-/AOh14GgLiO5i_xXRR_qAG77avSrsWiiI4KHJR6t4xysb=s64",
      "userId": "06313463015165663090"
     },
     "user_tz": -540
    },
    "id": "a8f5bf8d",
    "outputId": "307c1a46-29fd-4538-9520-91b5cc61e9c2"
   },
   "outputs": [
    {
     "name": "stderr",
     "output_type": "stream",
     "text": [
      "<ipython-input-8-0346e3b47137>:1: FutureWarning: Indexing with multiple keys (implicitly converted to a tuple of keys) will be deprecated, use a list instead.\n",
      "  df.groupby([\"school_setting\"])[\"pretest\", \"posttest\"].describe()\n"
     ]
    },
    {
     "data": {
      "text/html": [
       "<div>\n",
       "<style scoped>\n",
       "    .dataframe tbody tr th:only-of-type {\n",
       "        vertical-align: middle;\n",
       "    }\n",
       "\n",
       "    .dataframe tbody tr th {\n",
       "        vertical-align: top;\n",
       "    }\n",
       "\n",
       "    .dataframe thead tr th {\n",
       "        text-align: left;\n",
       "    }\n",
       "\n",
       "    .dataframe thead tr:last-of-type th {\n",
       "        text-align: right;\n",
       "    }\n",
       "</style>\n",
       "<table border=\"1\" class=\"dataframe\">\n",
       "  <thead>\n",
       "    <tr>\n",
       "      <th></th>\n",
       "      <th colspan=\"8\" halign=\"left\">pretest</th>\n",
       "      <th colspan=\"8\" halign=\"left\">posttest</th>\n",
       "    </tr>\n",
       "    <tr>\n",
       "      <th></th>\n",
       "      <th>count</th>\n",
       "      <th>mean</th>\n",
       "      <th>std</th>\n",
       "      <th>min</th>\n",
       "      <th>25%</th>\n",
       "      <th>50%</th>\n",
       "      <th>75%</th>\n",
       "      <th>max</th>\n",
       "      <th>count</th>\n",
       "      <th>mean</th>\n",
       "      <th>std</th>\n",
       "      <th>min</th>\n",
       "      <th>25%</th>\n",
       "      <th>50%</th>\n",
       "      <th>75%</th>\n",
       "      <th>max</th>\n",
       "    </tr>\n",
       "    <tr>\n",
       "      <th>school_setting</th>\n",
       "      <th></th>\n",
       "      <th></th>\n",
       "      <th></th>\n",
       "      <th></th>\n",
       "      <th></th>\n",
       "      <th></th>\n",
       "      <th></th>\n",
       "      <th></th>\n",
       "      <th></th>\n",
       "      <th></th>\n",
       "      <th></th>\n",
       "      <th></th>\n",
       "      <th></th>\n",
       "      <th></th>\n",
       "      <th></th>\n",
       "      <th></th>\n",
       "    </tr>\n",
       "  </thead>\n",
       "  <tbody>\n",
       "    <tr>\n",
       "      <th>Rural</th>\n",
       "      <td>510.0</td>\n",
       "      <td>51.490196</td>\n",
       "      <td>10.816876</td>\n",
       "      <td>26.0</td>\n",
       "      <td>44.0</td>\n",
       "      <td>53.0</td>\n",
       "      <td>60.0</td>\n",
       "      <td>73.0</td>\n",
       "      <td>510.0</td>\n",
       "      <td>64.050980</td>\n",
       "      <td>12.093827</td>\n",
       "      <td>36.0</td>\n",
       "      <td>56.0</td>\n",
       "      <td>67.0</td>\n",
       "      <td>73.0</td>\n",
       "      <td>88.0</td>\n",
       "    </tr>\n",
       "    <tr>\n",
       "      <th>Suburban</th>\n",
       "      <td>717.0</td>\n",
       "      <td>63.841004</td>\n",
       "      <td>10.583789</td>\n",
       "      <td>36.0</td>\n",
       "      <td>57.0</td>\n",
       "      <td>64.0</td>\n",
       "      <td>71.0</td>\n",
       "      <td>91.0</td>\n",
       "      <td>717.0</td>\n",
       "      <td>76.037657</td>\n",
       "      <td>11.046624</td>\n",
       "      <td>49.0</td>\n",
       "      <td>68.0</td>\n",
       "      <td>76.0</td>\n",
       "      <td>84.0</td>\n",
       "      <td>99.0</td>\n",
       "    </tr>\n",
       "    <tr>\n",
       "      <th>Urban</th>\n",
       "      <td>906.0</td>\n",
       "      <td>49.875276</td>\n",
       "      <td>13.556630</td>\n",
       "      <td>22.0</td>\n",
       "      <td>39.0</td>\n",
       "      <td>48.0</td>\n",
       "      <td>59.0</td>\n",
       "      <td>93.0</td>\n",
       "      <td>906.0</td>\n",
       "      <td>61.748344</td>\n",
       "      <td>13.596417</td>\n",
       "      <td>32.0</td>\n",
       "      <td>51.0</td>\n",
       "      <td>59.0</td>\n",
       "      <td>70.0</td>\n",
       "      <td>100.0</td>\n",
       "    </tr>\n",
       "  </tbody>\n",
       "</table>\n",
       "</div>"
      ],
      "text/plain": [
       "               pretest                                                      \\\n",
       "                 count       mean        std   min   25%   50%   75%   max   \n",
       "school_setting                                                               \n",
       "Rural            510.0  51.490196  10.816876  26.0  44.0  53.0  60.0  73.0   \n",
       "Suburban         717.0  63.841004  10.583789  36.0  57.0  64.0  71.0  91.0   \n",
       "Urban            906.0  49.875276  13.556630  22.0  39.0  48.0  59.0  93.0   \n",
       "\n",
       "               posttest                                                       \n",
       "                  count       mean        std   min   25%   50%   75%    max  \n",
       "school_setting                                                                \n",
       "Rural             510.0  64.050980  12.093827  36.0  56.0  67.0  73.0   88.0  \n",
       "Suburban          717.0  76.037657  11.046624  49.0  68.0  76.0  84.0   99.0  \n",
       "Urban             906.0  61.748344  13.596417  32.0  51.0  59.0  70.0  100.0  "
      ]
     },
     "execution_count": 8,
     "metadata": {},
     "output_type": "execute_result"
    }
   ],
   "source": [
    "df.groupby([\"school_setting\"])[\"pretest\", \"posttest\"].describe()"
   ]
  },
  {
   "cell_type": "markdown",
   "id": "1d05f789",
   "metadata": {
    "id": "1d05f789"
   },
   "source": [
    "* mean: Suburban > Urban > Rural\n",
    "* min: Suburban > Rural > Urban\n",
    "* max: Urban > Suburban > Rural"
   ]
  },
  {
   "cell_type": "code",
   "execution_count": 9,
   "id": "debc7c26",
   "metadata": {
    "colab": {
     "base_uri": "https://localhost:8080/",
     "height": 491
    },
    "executionInfo": {
     "elapsed": 2164,
     "status": "ok",
     "timestamp": 1629943604397,
     "user": {
      "displayName": "todaycode오늘코드",
      "photoUrl": "https://lh3.googleusercontent.com/a-/AOh14GgLiO5i_xXRR_qAG77avSrsWiiI4KHJR6t4xysb=s64",
      "userId": "06313463015165663090"
     },
     "user_tz": -540
    },
    "id": "debc7c26",
    "outputId": "906f6c79-e9dc-4697-cdf3-b36f653ef70b"
   },
   "outputs": [
    {
     "data": {
      "text/plain": [
       "<AxesSubplot:xlabel='pretest', ylabel='count'>"
      ]
     },
     "execution_count": 9,
     "metadata": {},
     "output_type": "execute_result"
    },
    {
     "data": {
      "image/png": "[encoded data removed]",
      "text/plain": [
       "<Figure size 1800x576 with 1 Axes>"
      ]
     },
     "metadata": {
      "needs_background": "light"
     },
     "output_type": "display_data"
    }
   ],
   "source": [
    "plt.figure(figsize=(25, 8))\n",
    "sns.countplot(data=df, x=\"pretest\", hue=\"school_setting\")"
   ]
  },
  {
   "cell_type": "code",
   "execution_count": 10,
   "id": "67573226",
   "metadata": {
    "colab": {
     "base_uri": "https://localhost:8080/",
     "height": 296
    },
    "executionInfo": {
     "elapsed": 395,
     "status": "ok",
     "timestamp": 1629943640243,
     "user": {
      "displayName": "todaycode오늘코드",
      "photoUrl": "https://lh3.googleusercontent.com/a-/AOh14GgLiO5i_xXRR_qAG77avSrsWiiI4KHJR6t4xysb=s64",
      "userId": "06313463015165663090"
     },
     "user_tz": -540
    },
    "id": "67573226",
    "outputId": "49a91c2d-e3b4-4ead-dac6-3130027ca1ec"
   },
   "outputs": [
    {
     "data": {
      "text/plain": [
       "<AxesSubplot:xlabel='school_setting', ylabel='pretest'>"
      ]
     },
     "execution_count": 10,
     "metadata": {},
     "output_type": "execute_result"
    },
    {
     "data": {
      "image/png": "[encoded data removed]",
      "text/plain": [
       "<Figure size 432x288 with 1 Axes>"
      ]
     },
     "metadata": {
      "needs_background": "light"
     },
     "output_type": "display_data"
    }
   ],
   "source": [
    "#plt.figure(figsize=(20, 8))\n",
    "sns.barplot(data=df, x=\"school_setting\", y=\"pretest\")"
   ]
  },
  {
   "cell_type": "code",
   "execution_count": 11,
   "id": "bb56e811",
   "metadata": {
    "colab": {
     "base_uri": "https://localhost:8080/",
     "height": 296
    },
    "executionInfo": {
     "elapsed": 394,
     "status": "ok",
     "timestamp": 1629943649991,
     "user": {
      "displayName": "todaycode오늘코드",
      "photoUrl": "https://lh3.googleusercontent.com/a-/AOh14GgLiO5i_xXRR_qAG77avSrsWiiI4KHJR6t4xysb=s64",
      "userId": "06313463015165663090"
     },
     "user_tz": -540
    },
    "id": "bb56e811",
    "outputId": "18436a19-a2c9-492e-beaf-470338496f6d"
   },
   "outputs": [
    {
     "data": {
      "text/plain": [
       "<AxesSubplot:xlabel='school_setting', ylabel='pretest'>"
      ]
     },
     "execution_count": 11,
     "metadata": {},
     "output_type": "execute_result"
    },
    {
     "data": {
      "image/png": "[encoded data removed]",
      "text/plain": [
       "<Figure size 432x288 with 1 Axes>"
      ]
     },
     "metadata": {
      "needs_background": "light"
     },
     "output_type": "display_data"
    }
   ],
   "source": [
    "sns.boxplot(data=df, x=\"school_setting\", y=\"pretest\")"
   ]
  },
  {
   "cell_type": "markdown",
   "id": "ae9ed1f4",
   "metadata": {
    "id": "ae9ed1f4"
   },
   "source": [
    "Urban에 이상치가 있는것으로 예측됨"
   ]
  },
  {
   "cell_type": "code",
   "execution_count": 12,
   "id": "e703e4c3",
   "metadata": {
    "colab": {
     "base_uri": "https://localhost:8080/"
    },
    "executionInfo": {
     "elapsed": 520,
     "status": "ok",
     "timestamp": 1629943664404,
     "user": {
      "displayName": "todaycode오늘코드",
      "photoUrl": "https://lh3.googleusercontent.com/a-/AOh14GgLiO5i_xXRR_qAG77avSrsWiiI4KHJR6t4xysb=s64",
      "userId": "06313463015165663090"
     },
     "user_tz": -540
    },
    "id": "e703e4c3",
    "outputId": "cb6da00e-59a9-48f3-e0a6-6080fe3dd4b4"
   },
   "outputs": [
    {
     "data": {
      "text/plain": [
       "((906, 11), (717, 11), (510, 11))"
      ]
     },
     "execution_count": 12,
     "metadata": {},
     "output_type": "execute_result"
    }
   ],
   "source": [
    "df_urban = df[df[\"school_setting\"]==\"Urban\"]\n",
    "df_suburban = df[df[\"school_setting\"]==\"Suburban\"]\n",
    "df_rural = df[df[\"school_setting\"]==\"Rural\"]\n",
    "\n",
    "df_urban.shape, df_suburban.shape, df_rural.shape"
   ]
  },
  {
   "cell_type": "code",
   "execution_count": 13,
   "id": "V0bnnwyKN3tv",
   "metadata": {
    "colab": {
     "base_uri": "https://localhost:8080/",
     "height": 385
    },
    "executionInfo": {
     "elapsed": 1412,
     "status": "ok",
     "timestamp": 1629943779696,
     "user": {
      "displayName": "todaycode오늘코드",
      "photoUrl": "https://lh3.googleusercontent.com/a-/AOh14GgLiO5i_xXRR_qAG77avSrsWiiI4KHJR6t4xysb=s64",
      "userId": "06313463015165663090"
     },
     "user_tz": -540
    },
    "id": "V0bnnwyKN3tv",
    "outputId": "bc754307-f8af-4c1b-94cd-2a11e257e9e8"
   },
   "outputs": [
    {
     "data": {
      "text/plain": [
       "<seaborn.axisgrid.FacetGrid at 0x7fe00133eee0>"
      ]
     },
     "execution_count": 13,
     "metadata": {},
     "output_type": "execute_result"
    },
    {
     "data": {
      "image/png": "[encoded data removed]",
      "text/plain": [
       "<Figure size 804.125x360 with 1 Axes>"
      ]
     },
     "metadata": {
      "needs_background": "light"
     },
     "output_type": "display_data"
    }
   ],
   "source": [
    "sns.displot(df, x=\"pretest\", kde=True, hue=\"school_setting\", aspect=2)"
   ]
  },
  {
   "cell_type": "code",
   "execution_count": 14,
   "id": "546ece34",
   "metadata": {
    "colab": {
     "base_uri": "https://localhost:8080/",
     "height": 295
    },
    "executionInfo": {
     "elapsed": 593,
     "status": "ok",
     "timestamp": 1629943703377,
     "user": {
      "displayName": "todaycode오늘코드",
      "photoUrl": "https://lh3.googleusercontent.com/a-/AOh14GgLiO5i_xXRR_qAG77avSrsWiiI4KHJR6t4xysb=s64",
      "userId": "06313463015165663090"
     },
     "user_tz": -540
    },
    "id": "546ece34",
    "outputId": "3785b8ac-5bdd-4ae7-f0cd-8ceda6b2a9a7"
   },
   "outputs": [
    {
     "data": {
      "text/plain": [
       "<AxesSubplot:xlabel='pretest', ylabel='Density'>"
      ]
     },
     "execution_count": 14,
     "metadata": {},
     "output_type": "execute_result"
    },
    {
     "data": {
      "image/png": "[encoded data removed]",
      "text/plain": [
       "<Figure size 432x288 with 1 Axes>"
      ]
     },
     "metadata": {
      "needs_background": "light"
     },
     "output_type": "display_data"
    }
   ],
   "source": [
    "#pretest 결과\n",
    "sns.kdeplot(df_urban[\"pretest\"], label=\"Urban\")\n",
    "sns.kdeplot(df_suburban[\"pretest\"], label=\"Suburban\")\n",
    "sns.kdeplot(df_rural[\"pretest\"],  label=\"Rural\")"
   ]
  },
  {
   "cell_type": "code",
   "execution_count": 15,
   "id": "IB-gucQVOKHu",
   "metadata": {
    "colab": {
     "base_uri": "https://localhost:8080/",
     "height": 385
    },
    "executionInfo": {
     "elapsed": 1352,
     "status": "ok",
     "timestamp": 1629943807965,
     "user": {
      "displayName": "todaycode오늘코드",
      "photoUrl": "https://lh3.googleusercontent.com/a-/AOh14GgLiO5i_xXRR_qAG77avSrsWiiI4KHJR6t4xysb=s64",
      "userId": "06313463015165663090"
     },
     "user_tz": -540
    },
    "id": "IB-gucQVOKHu",
    "outputId": "c66e3e2f-7e38-4d30-894d-e62b48518f0a"
   },
   "outputs": [
    {
     "data": {
      "text/plain": [
       "<seaborn.axisgrid.FacetGrid at 0x7fdfd10f1be0>"
      ]
     },
     "execution_count": 15,
     "metadata": {},
     "output_type": "execute_result"
    },
    {
     "data": {
      "image/png": "[encoded data removed]",
      "text/plain": [
       "<Figure size 804.125x360 with 1 Axes>"
      ]
     },
     "metadata": {
      "needs_background": "light"
     },
     "output_type": "display_data"
    }
   ],
   "source": [
    "sns.displot(df, x=\"posttest\", kde=True, hue=\"school_setting\", aspect=2)"
   ]
  },
  {
   "cell_type": "code",
   "execution_count": 16,
   "id": "85016ab6",
   "metadata": {
    "id": "85016ab6",
    "outputId": "213a4c57-0d08-49f4-e554-ba0db9511284"
   },
   "outputs": [
    {
     "name": "stderr",
     "output_type": "stream",
     "text": [
      "/opt/anaconda3/lib/python3.8/site-packages/seaborn/distributions.py:2557: FutureWarning: `distplot` is a deprecated function and will be removed in a future version. Please adapt your code to use either `displot` (a figure-level function with similar flexibility) or `kdeplot` (an axes-level function for kernel density plots).\n",
      "  warnings.warn(msg, FutureWarning)\n",
      "/opt/anaconda3/lib/python3.8/site-packages/seaborn/distributions.py:2557: FutureWarning: `distplot` is a deprecated function and will be removed in a future version. Please adapt your code to use either `displot` (a figure-level function with similar flexibility) or `kdeplot` (an axes-level function for kernel density plots).\n",
      "  warnings.warn(msg, FutureWarning)\n",
      "/opt/anaconda3/lib/python3.8/site-packages/seaborn/distributions.py:2557: FutureWarning: `distplot` is a deprecated function and will be removed in a future version. Please adapt your code to use either `displot` (a figure-level function with similar flexibility) or `kdeplot` (an axes-level function for kernel density plots).\n",
      "  warnings.warn(msg, FutureWarning)\n"
     ]
    },
    {
     "data": {
      "text/plain": [
       "<AxesSubplot:xlabel='posttest', ylabel='Density'>"
      ]
     },
     "execution_count": 16,
     "metadata": {},
     "output_type": "execute_result"
    },
    {
     "data": {
      "image/png": "[encoded data removed]",
      "text/plain": [
       "<Figure size 432x288 with 1 Axes>"
      ]
     },
     "metadata": {
      "needs_background": "light"
     },
     "output_type": "display_data"
    }
   ],
   "source": [
    "#posttest 결과\n",
    "sns.distplot(df_urban[\"posttest\"], hist=False)\n",
    "sns.distplot(df_suburban[\"posttest\"], hist=False)\n",
    "sns.distplot(df_rural[\"posttest\"], hist=False)"
   ]
  },
  {
   "cell_type": "markdown",
   "id": "7b40cf4e",
   "metadata": {
    "id": "7b40cf4e"
   },
   "source": [
    "### 소득 수준이 다를 것이다."
   ]
  },
  {
   "cell_type": "code",
   "execution_count": 17,
   "id": "e24d0840",
   "metadata": {
    "colab": {
     "base_uri": "https://localhost:8080/"
    },
    "executionInfo": {
     "elapsed": 377,
     "status": "ok",
     "timestamp": 1629943834313,
     "user": {
      "displayName": "todaycode오늘코드",
      "photoUrl": "https://lh3.googleusercontent.com/a-/AOh14GgLiO5i_xXRR_qAG77avSrsWiiI4KHJR6t4xysb=s64",
      "userId": "06313463015165663090"
     },
     "user_tz": -540
    },
    "id": "e24d0840",
    "outputId": "f6568104-3bfc-4c56-941b-fc34a74cefa7"
   },
   "outputs": [
    {
     "data": {
      "text/plain": [
       "Does not qualify                    1215\n",
       "Qualifies for reduced/free lunch     918\n",
       "Name: lunch, dtype: int64"
      ]
     },
     "execution_count": 17,
     "metadata": {},
     "output_type": "execute_result"
    }
   ],
   "source": [
    "df[\"lunch\"].value_counts()"
   ]
  },
  {
   "cell_type": "code",
   "execution_count": 18,
   "id": "dfe17c2b",
   "metadata": {
    "executionInfo": {
     "elapsed": 377,
     "status": "ok",
     "timestamp": 1629943854069,
     "user": {
      "displayName": "todaycode오늘코드",
      "photoUrl": "https://lh3.googleusercontent.com/a-/AOh14GgLiO5i_xXRR_qAG77avSrsWiiI4KHJR6t4xysb=s64",
      "userId": "06313463015165663090"
     },
     "user_tz": -540
    },
    "id": "dfe17c2b"
   },
   "outputs": [],
   "source": [
    "\n",
    "df[\"lunch\"] = df[\"lunch\"].replace([\"Does not qualify\", \"Qualifies for reduced/free lunch\"], [0,1], regex=True)\n",
    "#object => 0과 1로 변경\n"
   ]
  },
  {
   "cell_type": "code",
   "execution_count": 19,
   "id": "21581158",
   "metadata": {
    "colab": {
     "base_uri": "https://localhost:8080/",
     "height": 200
    },
    "executionInfo": {
     "elapsed": 509,
     "status": "ok",
     "timestamp": 1629943861628,
     "user": {
      "displayName": "todaycode오늘코드",
      "photoUrl": "https://lh3.googleusercontent.com/a-/AOh14GgLiO5i_xXRR_qAG77avSrsWiiI4KHJR6t4xysb=s64",
      "userId": "06313463015165663090"
     },
     "user_tz": -540
    },
    "id": "21581158",
    "outputId": "565a1e5d-1166-426b-8ab0-20919177c17f"
   },
   "outputs": [
    {
     "data": {
      "text/html": [
       "<div>\n",
       "<style scoped>\n",
       "    .dataframe tbody tr th:only-of-type {\n",
       "        vertical-align: middle;\n",
       "    }\n",
       "\n",
       "    .dataframe tbody tr th {\n",
       "        vertical-align: top;\n",
       "    }\n",
       "\n",
       "    .dataframe thead th {\n",
       "        text-align: right;\n",
       "    }\n",
       "</style>\n",
       "<table border=\"1\" class=\"dataframe\">\n",
       "  <thead>\n",
       "    <tr style=\"text-align: right;\">\n",
       "      <th></th>\n",
       "      <th>school</th>\n",
       "      <th>school_setting</th>\n",
       "      <th>school_type</th>\n",
       "      <th>classroom</th>\n",
       "      <th>teaching_method</th>\n",
       "      <th>n_student</th>\n",
       "      <th>student_id</th>\n",
       "      <th>gender</th>\n",
       "      <th>lunch</th>\n",
       "      <th>pretest</th>\n",
       "      <th>posttest</th>\n",
       "    </tr>\n",
       "  </thead>\n",
       "  <tbody>\n",
       "    <tr>\n",
       "      <th>0</th>\n",
       "      <td>ANKYI</td>\n",
       "      <td>Urban</td>\n",
       "      <td>Non-public</td>\n",
       "      <td>6OL</td>\n",
       "      <td>Standard</td>\n",
       "      <td>20.0</td>\n",
       "      <td>2FHT3</td>\n",
       "      <td>Female</td>\n",
       "      <td>0</td>\n",
       "      <td>62.0</td>\n",
       "      <td>72.0</td>\n",
       "    </tr>\n",
       "    <tr>\n",
       "      <th>1</th>\n",
       "      <td>ANKYI</td>\n",
       "      <td>Urban</td>\n",
       "      <td>Non-public</td>\n",
       "      <td>6OL</td>\n",
       "      <td>Standard</td>\n",
       "      <td>20.0</td>\n",
       "      <td>3JIVH</td>\n",
       "      <td>Female</td>\n",
       "      <td>0</td>\n",
       "      <td>66.0</td>\n",
       "      <td>79.0</td>\n",
       "    </tr>\n",
       "    <tr>\n",
       "      <th>2</th>\n",
       "      <td>ANKYI</td>\n",
       "      <td>Urban</td>\n",
       "      <td>Non-public</td>\n",
       "      <td>6OL</td>\n",
       "      <td>Standard</td>\n",
       "      <td>20.0</td>\n",
       "      <td>3XOWE</td>\n",
       "      <td>Male</td>\n",
       "      <td>0</td>\n",
       "      <td>64.0</td>\n",
       "      <td>76.0</td>\n",
       "    </tr>\n",
       "    <tr>\n",
       "      <th>3</th>\n",
       "      <td>ANKYI</td>\n",
       "      <td>Urban</td>\n",
       "      <td>Non-public</td>\n",
       "      <td>6OL</td>\n",
       "      <td>Standard</td>\n",
       "      <td>20.0</td>\n",
       "      <td>556O0</td>\n",
       "      <td>Female</td>\n",
       "      <td>0</td>\n",
       "      <td>61.0</td>\n",
       "      <td>77.0</td>\n",
       "    </tr>\n",
       "    <tr>\n",
       "      <th>4</th>\n",
       "      <td>ANKYI</td>\n",
       "      <td>Urban</td>\n",
       "      <td>Non-public</td>\n",
       "      <td>6OL</td>\n",
       "      <td>Standard</td>\n",
       "      <td>20.0</td>\n",
       "      <td>74LOE</td>\n",
       "      <td>Male</td>\n",
       "      <td>0</td>\n",
       "      <td>64.0</td>\n",
       "      <td>76.0</td>\n",
       "    </tr>\n",
       "  </tbody>\n",
       "</table>\n",
       "</div>"
      ],
      "text/plain": [
       "  school school_setting school_type classroom teaching_method  n_student  \\\n",
       "0  ANKYI          Urban  Non-public       6OL        Standard       20.0   \n",
       "1  ANKYI          Urban  Non-public       6OL        Standard       20.0   \n",
       "2  ANKYI          Urban  Non-public       6OL        Standard       20.0   \n",
       "3  ANKYI          Urban  Non-public       6OL        Standard       20.0   \n",
       "4  ANKYI          Urban  Non-public       6OL        Standard       20.0   \n",
       "\n",
       "  student_id  gender  lunch  pretest  posttest  \n",
       "0      2FHT3  Female      0     62.0      72.0  \n",
       "1      3JIVH  Female      0     66.0      79.0  \n",
       "2      3XOWE    Male      0     64.0      76.0  \n",
       "3      556O0  Female      0     61.0      77.0  \n",
       "4      74LOE    Male      0     64.0      76.0  "
      ]
     },
     "execution_count": 19,
     "metadata": {},
     "output_type": "execute_result"
    }
   ],
   "source": [
    "df.head()"
   ]
  },
  {
   "cell_type": "code",
   "execution_count": 20,
   "id": "f2170c6d",
   "metadata": {
    "colab": {
     "base_uri": "https://localhost:8080/",
     "height": 200
    },
    "executionInfo": {
     "elapsed": 385,
     "status": "ok",
     "timestamp": 1629943871936,
     "user": {
      "displayName": "todaycode오늘코드",
      "photoUrl": "https://lh3.googleusercontent.com/a-/AOh14GgLiO5i_xXRR_qAG77avSrsWiiI4KHJR6t4xysb=s64",
      "userId": "06313463015165663090"
     },
     "user_tz": -540
    },
    "id": "f2170c6d",
    "outputId": "df1ad3c1-2b47-4172-c20b-0b8bc02beab7"
   },
   "outputs": [
    {
     "data": {
      "text/html": [
       "<div>\n",
       "<style scoped>\n",
       "    .dataframe tbody tr th:only-of-type {\n",
       "        vertical-align: middle;\n",
       "    }\n",
       "\n",
       "    .dataframe tbody tr th {\n",
       "        vertical-align: top;\n",
       "    }\n",
       "\n",
       "    .dataframe thead th {\n",
       "        text-align: right;\n",
       "    }\n",
       "</style>\n",
       "<table border=\"1\" class=\"dataframe\">\n",
       "  <thead>\n",
       "    <tr style=\"text-align: right;\">\n",
       "      <th></th>\n",
       "      <th>school</th>\n",
       "      <th>school_setting</th>\n",
       "      <th>school_type</th>\n",
       "      <th>classroom</th>\n",
       "      <th>teaching_method</th>\n",
       "      <th>n_student</th>\n",
       "      <th>student_id</th>\n",
       "      <th>gender</th>\n",
       "      <th>lunch</th>\n",
       "      <th>pretest</th>\n",
       "      <th>posttest</th>\n",
       "    </tr>\n",
       "  </thead>\n",
       "  <tbody>\n",
       "    <tr>\n",
       "      <th>2128</th>\n",
       "      <td>ZOWMK</td>\n",
       "      <td>Urban</td>\n",
       "      <td>Public</td>\n",
       "      <td>ZBH</td>\n",
       "      <td>Standard</td>\n",
       "      <td>30.0</td>\n",
       "      <td>T8LSK</td>\n",
       "      <td>Female</td>\n",
       "      <td>0</td>\n",
       "      <td>39.0</td>\n",
       "      <td>55.0</td>\n",
       "    </tr>\n",
       "    <tr>\n",
       "      <th>2129</th>\n",
       "      <td>ZOWMK</td>\n",
       "      <td>Urban</td>\n",
       "      <td>Public</td>\n",
       "      <td>ZBH</td>\n",
       "      <td>Standard</td>\n",
       "      <td>30.0</td>\n",
       "      <td>VNP26</td>\n",
       "      <td>Female</td>\n",
       "      <td>1</td>\n",
       "      <td>38.0</td>\n",
       "      <td>46.0</td>\n",
       "    </tr>\n",
       "    <tr>\n",
       "      <th>2130</th>\n",
       "      <td>ZOWMK</td>\n",
       "      <td>Urban</td>\n",
       "      <td>Public</td>\n",
       "      <td>ZBH</td>\n",
       "      <td>Standard</td>\n",
       "      <td>30.0</td>\n",
       "      <td>YDR1Z</td>\n",
       "      <td>Female</td>\n",
       "      <td>1</td>\n",
       "      <td>45.0</td>\n",
       "      <td>51.0</td>\n",
       "    </tr>\n",
       "    <tr>\n",
       "      <th>2131</th>\n",
       "      <td>ZOWMK</td>\n",
       "      <td>Urban</td>\n",
       "      <td>Public</td>\n",
       "      <td>ZBH</td>\n",
       "      <td>Standard</td>\n",
       "      <td>30.0</td>\n",
       "      <td>YUEIH</td>\n",
       "      <td>Male</td>\n",
       "      <td>1</td>\n",
       "      <td>46.0</td>\n",
       "      <td>53.0</td>\n",
       "    </tr>\n",
       "    <tr>\n",
       "      <th>2132</th>\n",
       "      <td>ZOWMK</td>\n",
       "      <td>Urban</td>\n",
       "      <td>Public</td>\n",
       "      <td>ZBH</td>\n",
       "      <td>Standard</td>\n",
       "      <td>30.0</td>\n",
       "      <td>ZVCQ8</td>\n",
       "      <td>Male</td>\n",
       "      <td>1</td>\n",
       "      <td>41.0</td>\n",
       "      <td>48.0</td>\n",
       "    </tr>\n",
       "  </tbody>\n",
       "</table>\n",
       "</div>"
      ],
      "text/plain": [
       "     school school_setting school_type classroom teaching_method  n_student  \\\n",
       "2128  ZOWMK          Urban      Public       ZBH        Standard       30.0   \n",
       "2129  ZOWMK          Urban      Public       ZBH        Standard       30.0   \n",
       "2130  ZOWMK          Urban      Public       ZBH        Standard       30.0   \n",
       "2131  ZOWMK          Urban      Public       ZBH        Standard       30.0   \n",
       "2132  ZOWMK          Urban      Public       ZBH        Standard       30.0   \n",
       "\n",
       "     student_id  gender  lunch  pretest  posttest  \n",
       "2128      T8LSK  Female      0     39.0      55.0  \n",
       "2129      VNP26  Female      1     38.0      46.0  \n",
       "2130      YDR1Z  Female      1     45.0      51.0  \n",
       "2131      YUEIH    Male      1     46.0      53.0  \n",
       "2132      ZVCQ8    Male      1     41.0      48.0  "
      ]
     },
     "execution_count": 20,
     "metadata": {},
     "output_type": "execute_result"
    }
   ],
   "source": [
    "df.tail()"
   ]
  },
  {
   "cell_type": "code",
   "execution_count": 21,
   "id": "4c46c9af",
   "metadata": {
    "colab": {
     "base_uri": "https://localhost:8080/",
     "height": 295
    },
    "executionInfo": {
     "elapsed": 559,
     "status": "ok",
     "timestamp": 1629943874012,
     "user": {
      "displayName": "todaycode오늘코드",
      "photoUrl": "https://lh3.googleusercontent.com/a-/AOh14GgLiO5i_xXRR_qAG77avSrsWiiI4KHJR6t4xysb=s64",
      "userId": "06313463015165663090"
     },
     "user_tz": -540
    },
    "id": "4c46c9af",
    "outputId": "c64c9aff-0c31-4e25-8049-15180f39bf98"
   },
   "outputs": [
    {
     "data": {
      "text/plain": [
       "<AxesSubplot:xlabel='lunch', ylabel='count'>"
      ]
     },
     "execution_count": 21,
     "metadata": {},
     "output_type": "execute_result"
    },
    {
     "data": {
      "image/png": "[encoded data removed]",
      "text/plain": [
       "<Figure size 432x288 with 1 Axes>"
      ]
     },
     "metadata": {
      "needs_background": "light"
     },
     "output_type": "display_data"
    }
   ],
   "source": [
    "sns.countplot(data=df, x=\"lunch\", hue=\"school_setting\")"
   ]
  },
  {
   "cell_type": "code",
   "execution_count": 22,
   "id": "cplfaxbbOlgZ",
   "metadata": {
    "colab": {
     "base_uri": "https://localhost:8080/",
     "height": 295
    },
    "executionInfo": {
     "elapsed": 724,
     "status": "ok",
     "timestamp": 1629944014617,
     "user": {
      "displayName": "todaycode오늘코드",
      "photoUrl": "https://lh3.googleusercontent.com/a-/AOh14GgLiO5i_xXRR_qAG77avSrsWiiI4KHJR6t4xysb=s64",
      "userId": "06313463015165663090"
     },
     "user_tz": -540
    },
    "id": "cplfaxbbOlgZ",
    "outputId": "1274965a-24dc-4255-e9ee-e0b2ff7c3c07"
   },
   "outputs": [
    {
     "data": {
      "text/plain": [
       "<AxesSubplot:xlabel='lunch', ylabel='pretest'>"
      ]
     },
     "execution_count": 22,
     "metadata": {},
     "output_type": "execute_result"
    },
    {
     "data": {
      "image/png": "[encoded data removed]",
      "text/plain": [
       "<Figure size 432x288 with 1 Axes>"
      ]
     },
     "metadata": {
      "needs_background": "light"
     },
     "output_type": "display_data"
    }
   ],
   "source": [
    "sns.barplot(data=df, x=\"lunch\", y=\"pretest\", hue=\"school_setting\")"
   ]
  },
  {
   "cell_type": "code",
   "execution_count": 23,
   "id": "DRk8N_oNO7xY",
   "metadata": {
    "colab": {
     "base_uri": "https://localhost:8080/",
     "height": 295
    },
    "executionInfo": {
     "elapsed": 507,
     "status": "ok",
     "timestamp": 1629944015119,
     "user": {
      "displayName": "todaycode오늘코드",
      "photoUrl": "https://lh3.googleusercontent.com/a-/AOh14GgLiO5i_xXRR_qAG77avSrsWiiI4KHJR6t4xysb=s64",
      "userId": "06313463015165663090"
     },
     "user_tz": -540
    },
    "id": "DRk8N_oNO7xY",
    "outputId": "e8e430dc-0219-4612-fe60-6e0a767f1961"
   },
   "outputs": [
    {
     "data": {
      "text/plain": [
       "<AxesSubplot:xlabel='lunch', ylabel='posttest'>"
      ]
     },
     "execution_count": 23,
     "metadata": {},
     "output_type": "execute_result"
    },
    {
     "data": {
      "image/png": "[encoded data removed]",
      "text/plain": [
       "<Figure size 432x288 with 1 Axes>"
      ]
     },
     "metadata": {
      "needs_background": "light"
     },
     "output_type": "display_data"
    }
   ],
   "source": [
    "sns.barplot(data=df, x=\"lunch\", y=\"posttest\", hue=\"school_setting\")"
   ]
  },
  {
   "cell_type": "markdown",
   "id": "3b883803",
   "metadata": {
    "id": "3b883803"
   },
   "source": [
    "* Suburban은 부유한 계층(0)이 많고 저소득 계층(1)이 적음\n",
    "* Urban은 둘 다 많음"
   ]
  },
  {
   "cell_type": "markdown",
   "id": "b19550bf",
   "metadata": {
    "id": "b19550bf"
   },
   "source": [
    "## 학교 타입(공립, 사립)에 따라 시험 결과가 다를 것이다."
   ]
  },
  {
   "cell_type": "code",
   "execution_count": 24,
   "id": "e5e7b2a2",
   "metadata": {
    "colab": {
     "base_uri": "https://localhost:8080/",
     "height": 222
    },
    "executionInfo": {
     "elapsed": 375,
     "status": "ok",
     "timestamp": 1629944024698,
     "user": {
      "displayName": "todaycode오늘코드",
      "photoUrl": "https://lh3.googleusercontent.com/a-/AOh14GgLiO5i_xXRR_qAG77avSrsWiiI4KHJR6t4xysb=s64",
      "userId": "06313463015165663090"
     },
     "user_tz": -540
    },
    "id": "e5e7b2a2",
    "outputId": "18b7a553-6a9a-4590-cfc3-320657c39e32"
   },
   "outputs": [
    {
     "name": "stderr",
     "output_type": "stream",
     "text": [
      "<ipython-input-24-abb2cdf5ded4>:1: FutureWarning: Indexing with multiple keys (implicitly converted to a tuple of keys) will be deprecated, use a list instead.\n",
      "  df.groupby([\"school_type\"])[\"pretest\", \"posttest\"].describe()\n"
     ]
    },
    {
     "data": {
      "text/html": [
       "<div>\n",
       "<style scoped>\n",
       "    .dataframe tbody tr th:only-of-type {\n",
       "        vertical-align: middle;\n",
       "    }\n",
       "\n",
       "    .dataframe tbody tr th {\n",
       "        vertical-align: top;\n",
       "    }\n",
       "\n",
       "    .dataframe thead tr th {\n",
       "        text-align: left;\n",
       "    }\n",
       "\n",
       "    .dataframe thead tr:last-of-type th {\n",
       "        text-align: right;\n",
       "    }\n",
       "</style>\n",
       "<table border=\"1\" class=\"dataframe\">\n",
       "  <thead>\n",
       "    <tr>\n",
       "      <th></th>\n",
       "      <th colspan=\"8\" halign=\"left\">pretest</th>\n",
       "      <th colspan=\"8\" halign=\"left\">posttest</th>\n",
       "    </tr>\n",
       "    <tr>\n",
       "      <th></th>\n",
       "      <th>count</th>\n",
       "      <th>mean</th>\n",
       "      <th>std</th>\n",
       "      <th>min</th>\n",
       "      <th>25%</th>\n",
       "      <th>50%</th>\n",
       "      <th>75%</th>\n",
       "      <th>max</th>\n",
       "      <th>count</th>\n",
       "      <th>mean</th>\n",
       "      <th>std</th>\n",
       "      <th>min</th>\n",
       "      <th>25%</th>\n",
       "      <th>50%</th>\n",
       "      <th>75%</th>\n",
       "      <th>max</th>\n",
       "    </tr>\n",
       "    <tr>\n",
       "      <th>school_type</th>\n",
       "      <th></th>\n",
       "      <th></th>\n",
       "      <th></th>\n",
       "      <th></th>\n",
       "      <th></th>\n",
       "      <th></th>\n",
       "      <th></th>\n",
       "      <th></th>\n",
       "      <th></th>\n",
       "      <th></th>\n",
       "      <th></th>\n",
       "      <th></th>\n",
       "      <th></th>\n",
       "      <th></th>\n",
       "      <th></th>\n",
       "      <th></th>\n",
       "    </tr>\n",
       "  </thead>\n",
       "  <tbody>\n",
       "    <tr>\n",
       "      <th>Non-public</th>\n",
       "      <td>551.0</td>\n",
       "      <td>63.254083</td>\n",
       "      <td>10.342184</td>\n",
       "      <td>37.0</td>\n",
       "      <td>58.0</td>\n",
       "      <td>64.0</td>\n",
       "      <td>70.0</td>\n",
       "      <td>93.0</td>\n",
       "      <td>551.0</td>\n",
       "      <td>75.961887</td>\n",
       "      <td>10.539812</td>\n",
       "      <td>44.0</td>\n",
       "      <td>71.0</td>\n",
       "      <td>77.0</td>\n",
       "      <td>82.0</td>\n",
       "      <td>100.0</td>\n",
       "    </tr>\n",
       "    <tr>\n",
       "      <th>Public</th>\n",
       "      <td>1582.0</td>\n",
       "      <td>52.065740</td>\n",
       "      <td>13.360500</td>\n",
       "      <td>22.0</td>\n",
       "      <td>42.0</td>\n",
       "      <td>52.0</td>\n",
       "      <td>61.0</td>\n",
       "      <td>91.0</td>\n",
       "      <td>1582.0</td>\n",
       "      <td>64.016435</td>\n",
       "      <td>13.721537</td>\n",
       "      <td>32.0</td>\n",
       "      <td>54.0</td>\n",
       "      <td>63.0</td>\n",
       "      <td>73.0</td>\n",
       "      <td>99.0</td>\n",
       "    </tr>\n",
       "  </tbody>\n",
       "</table>\n",
       "</div>"
      ],
      "text/plain": [
       "            pretest                                                      \\\n",
       "              count       mean        std   min   25%   50%   75%   max   \n",
       "school_type                                                               \n",
       "Non-public    551.0  63.254083  10.342184  37.0  58.0  64.0  70.0  93.0   \n",
       "Public       1582.0  52.065740  13.360500  22.0  42.0  52.0  61.0  91.0   \n",
       "\n",
       "            posttest                                                       \n",
       "               count       mean        std   min   25%   50%   75%    max  \n",
       "school_type                                                                \n",
       "Non-public     551.0  75.961887  10.539812  44.0  71.0  77.0  82.0  100.0  \n",
       "Public        1582.0  64.016435  13.721537  32.0  54.0  63.0  73.0   99.0  "
      ]
     },
     "execution_count": 24,
     "metadata": {},
     "output_type": "execute_result"
    }
   ],
   "source": [
    "df.groupby([\"school_type\"])[\"pretest\", \"posttest\"].describe()"
   ]
  },
  {
   "cell_type": "code",
   "execution_count": 25,
   "id": "47e0621f",
   "metadata": {
    "colab": {
     "base_uri": "https://localhost:8080/",
     "height": 296
    },
    "executionInfo": {
     "elapsed": 390,
     "status": "ok",
     "timestamp": 1629944050471,
     "user": {
      "displayName": "todaycode오늘코드",
      "photoUrl": "https://lh3.googleusercontent.com/a-/AOh14GgLiO5i_xXRR_qAG77avSrsWiiI4KHJR6t4xysb=s64",
      "userId": "06313463015165663090"
     },
     "user_tz": -540
    },
    "id": "47e0621f",
    "outputId": "7abb2026-e591-4c99-edb2-f17772c1488b"
   },
   "outputs": [
    {
     "data": {
      "text/plain": [
       "<AxesSubplot:xlabel='school_type', ylabel='pretest'>"
      ]
     },
     "execution_count": 25,
     "metadata": {},
     "output_type": "execute_result"
    },
    {
     "data": {
      "image/png": "[encoded data removed]",
      "text/plain": [
       "<Figure size 432x288 with 1 Axes>"
      ]
     },
     "metadata": {
      "needs_background": "light"
     },
     "output_type": "display_data"
    }
   ],
   "source": [
    "sns.barplot(data=df, x=\"school_type\", y=\"pretest\")"
   ]
  },
  {
   "cell_type": "code",
   "execution_count": 26,
   "id": "05f77be1",
   "metadata": {
    "colab": {
     "base_uri": "https://localhost:8080/",
     "height": 298
    },
    "executionInfo": {
     "elapsed": 430,
     "status": "ok",
     "timestamp": 1629944053147,
     "user": {
      "displayName": "todaycode오늘코드",
      "photoUrl": "https://lh3.googleusercontent.com/a-/AOh14GgLiO5i_xXRR_qAG77avSrsWiiI4KHJR6t4xysb=s64",
      "userId": "06313463015165663090"
     },
     "user_tz": -540
    },
    "id": "05f77be1",
    "outputId": "4f605d93-b791-49d3-ff20-81bf6f0f4b2c"
   },
   "outputs": [
    {
     "data": {
      "text/plain": [
       "<AxesSubplot:xlabel='school_type', ylabel='posttest'>"
      ]
     },
     "execution_count": 26,
     "metadata": {},
     "output_type": "execute_result"
    },
    {
     "data": {
      "image/png": "[encoded data removed]",
      "text/plain": [
       "<Figure size 432x288 with 1 Axes>"
      ]
     },
     "metadata": {
      "needs_background": "light"
     },
     "output_type": "display_data"
    }
   ],
   "source": [
    "sns.barplot(data=df, x=\"school_type\", y=\"posttest\")"
   ]
  },
  {
   "cell_type": "code",
   "execution_count": 27,
   "id": "d856b62d",
   "metadata": {
    "colab": {
     "base_uri": "https://localhost:8080/",
     "height": 296
    },
    "executionInfo": {
     "elapsed": 559,
     "status": "ok",
     "timestamp": 1629944056274,
     "user": {
      "displayName": "todaycode오늘코드",
      "photoUrl": "https://lh3.googleusercontent.com/a-/AOh14GgLiO5i_xXRR_qAG77avSrsWiiI4KHJR6t4xysb=s64",
      "userId": "06313463015165663090"
     },
     "user_tz": -540
    },
    "id": "d856b62d",
    "outputId": "df819390-7bf7-4e1f-e670-31105d761da5"
   },
   "outputs": [
    {
     "data": {
      "text/plain": [
       "<AxesSubplot:xlabel='school_type', ylabel='pretest'>"
      ]
     },
     "execution_count": 27,
     "metadata": {},
     "output_type": "execute_result"
    },
    {
     "data": {
      "image/png": "[encoded data removed]",
      "text/plain": [
       "<Figure size 432x288 with 1 Axes>"
      ]
     },
     "metadata": {
      "needs_background": "light"
     },
     "output_type": "display_data"
    }
   ],
   "source": [
    "sns.boxplot(data=df, x=\"school_type\", y=\"pretest\", hue=\"school_setting\")"
   ]
  },
  {
   "cell_type": "code",
   "execution_count": 28,
   "id": "b14835f5",
   "metadata": {
    "colab": {
     "base_uri": "https://localhost:8080/"
    },
    "executionInfo": {
     "elapsed": 491,
     "status": "ok",
     "timestamp": 1629944065669,
     "user": {
      "displayName": "todaycode오늘코드",
      "photoUrl": "https://lh3.googleusercontent.com/a-/AOh14GgLiO5i_xXRR_qAG77avSrsWiiI4KHJR6t4xysb=s64",
      "userId": "06313463015165663090"
     },
     "user_tz": -540
    },
    "id": "b14835f5",
    "outputId": "5f6bf96a-f7d9-4864-ff1a-0104a2aa24cf"
   },
   "outputs": [
    {
     "name": "stdout",
     "output_type": "stream",
     "text": [
      "71.32486388384754 28.67513611615245\n",
      "51.959544879898864 48.040455120101136\n"
     ]
    }
   ],
   "source": [
    "lunch_0_nonP = df[(df[\"lunch\"]==0) \n",
    "   & (df[\"school_type\"]==\"Non-public\")].count()[0]\n",
    "lunch_1_nonP = df[(df[\"lunch\"]==1) \n",
    "   & (df[\"school_type\"]==\"Non-public\")].count()[0]\n",
    "nonP = df[df[\"school_type\"]==\"Non-public\"].count()[0]\n",
    "\n",
    "lunch_0_P = df[(df[\"lunch\"]==0) \n",
    "   & (df[\"school_type\"]==\"Public\")].count()[0]\n",
    "lunch_1_P = df[(df[\"lunch\"]==1) \n",
    "   & (df[\"school_type\"]==\"Public\")].count()[0]\n",
    "P = df[df[\"school_type\"]==\"Public\"].count()[0]\n",
    "\n",
    "#사립 학교의 고소득/ 저소득 비율\n",
    "print(lunch_0_nonP/nonP * 100, lunch_1_nonP/nonP * 100)\n",
    "\n",
    "#공립 학교의 고소득/ 저소득 비율\n",
    "print(lunch_0_P/P * 100, lunch_1_P/P * 100)"
   ]
  },
  {
   "cell_type": "code",
   "execution_count": 29,
   "id": "d334ac57",
   "metadata": {
    "colab": {
     "base_uri": "https://localhost:8080/",
     "height": 296
    },
    "executionInfo": {
     "elapsed": 545,
     "status": "ok",
     "timestamp": 1629944072423,
     "user": {
      "displayName": "todaycode오늘코드",
      "photoUrl": "https://lh3.googleusercontent.com/a-/AOh14GgLiO5i_xXRR_qAG77avSrsWiiI4KHJR6t4xysb=s64",
      "userId": "06313463015165663090"
     },
     "user_tz": -540
    },
    "id": "d334ac57",
    "outputId": "3cb87901-be3c-4da7-972e-7a614c29464f"
   },
   "outputs": [
    {
     "data": {
      "text/plain": [
       "<AxesSubplot:xlabel='school_type', ylabel='count'>"
      ]
     },
     "execution_count": 29,
     "metadata": {},
     "output_type": "execute_result"
    },
    {
     "data": {
      "image/png": "[encoded data removed]",
      "text/plain": [
       "<Figure size 432x288 with 1 Axes>"
      ]
     },
     "metadata": {
      "needs_background": "light"
     },
     "output_type": "display_data"
    }
   ],
   "source": [
    "#소득 수준 확인\n",
    "sns.countplot(data=df, x=\"school_type\", hue=\"lunch\")"
   ]
  },
  {
   "cell_type": "code",
   "execution_count": 30,
   "id": "ybvfbjaxPPaF",
   "metadata": {
    "colab": {
     "base_uri": "https://localhost:8080/",
     "height": 400
    },
    "executionInfo": {
     "elapsed": 1470,
     "status": "ok",
     "timestamp": 1629944115519,
     "user": {
      "displayName": "todaycode오늘코드",
      "photoUrl": "https://lh3.googleusercontent.com/a-/AOh14GgLiO5i_xXRR_qAG77avSrsWiiI4KHJR6t4xysb=s64",
      "userId": "06313463015165663090"
     },
     "user_tz": -540
    },
    "id": "ybvfbjaxPPaF",
    "outputId": "a3063284-1ca5-4285-ad6f-1cf38b098d70"
   },
   "outputs": [
    {
     "data": {
      "text/plain": [
       "<seaborn.axisgrid.FacetGrid at 0x7fe00176e430>"
      ]
     },
     "execution_count": 30,
     "metadata": {},
     "output_type": "execute_result"
    },
    {
     "data": {
      "image/png": "[encoded data removed]",
      "text/plain": [
       "<Figure size 720x360 with 2 Axes>"
      ]
     },
     "metadata": {
      "needs_background": "light"
     },
     "output_type": "display_data"
    }
   ],
   "source": [
    "sns.catplot(data=df, x=\"school_setting\", y=\"pretest\",col=\"lunch\", kind=\"bar\")"
   ]
  },
  {
   "cell_type": "markdown",
   "id": "f14072a4",
   "metadata": {
    "id": "f14072a4"
   },
   "source": [
    "## 교육 방식(실험적, 기존)에 따라 시험 결과가 다를 것이다."
   ]
  },
  {
   "cell_type": "code",
   "execution_count": 31,
   "id": "46a46032",
   "metadata": {
    "executionInfo": {
     "elapsed": 497,
     "status": "ok",
     "timestamp": 1629944138202,
     "user": {
      "displayName": "todaycode오늘코드",
      "photoUrl": "https://lh3.googleusercontent.com/a-/AOh14GgLiO5i_xXRR_qAG77avSrsWiiI4KHJR6t4xysb=s64",
      "userId": "06313463015165663090"
     },
     "user_tz": -540
    },
    "id": "46a46032"
   },
   "outputs": [],
   "source": [
    "df_experimental = df[df[\"teaching_method\"]==\"Experimental\"]\n",
    "df_standard = df[df[\"teaching_method\"]==\"Standard\"]"
   ]
  },
  {
   "cell_type": "code",
   "execution_count": 32,
   "id": "ca21eb22",
   "metadata": {
    "colab": {
     "base_uri": "https://localhost:8080/",
     "height": 380
    },
    "executionInfo": {
     "elapsed": 579,
     "status": "ok",
     "timestamp": 1629944140083,
     "user": {
      "displayName": "todaycode오늘코드",
      "photoUrl": "https://lh3.googleusercontent.com/a-/AOh14GgLiO5i_xXRR_qAG77avSrsWiiI4KHJR6t4xysb=s64",
      "userId": "06313463015165663090"
     },
     "user_tz": -540
    },
    "id": "ca21eb22",
    "outputId": "b6b73c96-2f14-4647-cbff-a44f22b2ea41"
   },
   "outputs": [
    {
     "name": "stderr",
     "output_type": "stream",
     "text": [
      "/opt/anaconda3/lib/python3.8/site-packages/seaborn/distributions.py:2557: FutureWarning: `distplot` is a deprecated function and will be removed in a future version. Please adapt your code to use either `displot` (a figure-level function with similar flexibility) or `kdeplot` (an axes-level function for kernel density plots).\n",
      "  warnings.warn(msg, FutureWarning)\n",
      "/opt/anaconda3/lib/python3.8/site-packages/seaborn/distributions.py:2557: FutureWarning: `distplot` is a deprecated function and will be removed in a future version. Please adapt your code to use either `displot` (a figure-level function with similar flexibility) or `kdeplot` (an axes-level function for kernel density plots).\n",
      "  warnings.warn(msg, FutureWarning)\n"
     ]
    },
    {
     "data": {
      "text/plain": [
       "<AxesSubplot:xlabel='pretest', ylabel='Density'>"
      ]
     },
     "execution_count": 32,
     "metadata": {},
     "output_type": "execute_result"
    },
    {
     "data": {
      "image/png": "[encoded data removed]",
      "text/plain": [
       "<Figure size 432x288 with 1 Axes>"
      ]
     },
     "metadata": {
      "needs_background": "light"
     },
     "output_type": "display_data"
    }
   ],
   "source": [
    "sns.distplot(df_experimental[\"pretest\"], hist=False)\n",
    "sns.distplot(df_standard[\"pretest\"], hist=False)"
   ]
  },
  {
   "cell_type": "code",
   "execution_count": 33,
   "id": "79fc2966",
   "metadata": {
    "colab": {
     "base_uri": "https://localhost:8080/",
     "height": 380
    },
    "executionInfo": {
     "elapsed": 1247,
     "status": "ok",
     "timestamp": 1629944149470,
     "user": {
      "displayName": "todaycode오늘코드",
      "photoUrl": "https://lh3.googleusercontent.com/a-/AOh14GgLiO5i_xXRR_qAG77avSrsWiiI4KHJR6t4xysb=s64",
      "userId": "06313463015165663090"
     },
     "user_tz": -540
    },
    "id": "79fc2966",
    "outputId": "fac1b5dc-2bf8-499d-abb8-bc1b4360b78a"
   },
   "outputs": [
    {
     "name": "stderr",
     "output_type": "stream",
     "text": [
      "/opt/anaconda3/lib/python3.8/site-packages/seaborn/distributions.py:2557: FutureWarning: `distplot` is a deprecated function and will be removed in a future version. Please adapt your code to use either `displot` (a figure-level function with similar flexibility) or `kdeplot` (an axes-level function for kernel density plots).\n",
      "  warnings.warn(msg, FutureWarning)\n",
      "/opt/anaconda3/lib/python3.8/site-packages/seaborn/distributions.py:2557: FutureWarning: `distplot` is a deprecated function and will be removed in a future version. Please adapt your code to use either `displot` (a figure-level function with similar flexibility) or `kdeplot` (an axes-level function for kernel density plots).\n",
      "  warnings.warn(msg, FutureWarning)\n"
     ]
    },
    {
     "data": {
      "text/plain": [
       "<AxesSubplot:xlabel='posttest', ylabel='Density'>"
      ]
     },
     "execution_count": 33,
     "metadata": {},
     "output_type": "execute_result"
    },
    {
     "data": {
      "image/png": "[encoded data removed]",
      "text/plain": [
       "<Figure size 432x288 with 1 Axes>"
      ]
     },
     "metadata": {
      "needs_background": "light"
     },
     "output_type": "display_data"
    }
   ],
   "source": [
    "sns.distplot(df_experimental[\"posttest\"], hist=False)\n",
    "sns.distplot(df_standard[\"posttest\"], hist=False)"
   ]
  },
  {
   "cell_type": "code",
   "execution_count": 34,
   "id": "8589a9b9",
   "metadata": {
    "colab": {
     "base_uri": "https://localhost:8080/",
     "height": 296
    },
    "executionInfo": {
     "elapsed": 453,
     "status": "ok",
     "timestamp": 1629944151926,
     "user": {
      "displayName": "todaycode오늘코드",
      "photoUrl": "https://lh3.googleusercontent.com/a-/AOh14GgLiO5i_xXRR_qAG77avSrsWiiI4KHJR6t4xysb=s64",
      "userId": "06313463015165663090"
     },
     "user_tz": -540
    },
    "id": "8589a9b9",
    "outputId": "53c6af9c-6ee0-4192-902c-2d37e0256b8a"
   },
   "outputs": [
    {
     "data": {
      "text/plain": [
       "<AxesSubplot:xlabel='teaching_method', ylabel='posttest'>"
      ]
     },
     "execution_count": 34,
     "metadata": {},
     "output_type": "execute_result"
    },
    {
     "data": {
      "image/png": "[encoded data removed]",
      "text/plain": [
       "<Figure size 432x288 with 1 Axes>"
      ]
     },
     "metadata": {
      "needs_background": "light"
     },
     "output_type": "display_data"
    }
   ],
   "source": [
    "sns.boxplot(x='teaching_method', y='posttest', data=df, hue=\"school_setting\")"
   ]
  },
  {
   "cell_type": "markdown",
   "id": "bc819931",
   "metadata": {
    "id": "bc819931"
   },
   "source": [
    "## pretest 점수가 높은 아이들은 posttest 결과가 높을 것이다."
   ]
  },
  {
   "cell_type": "code",
   "execution_count": 35,
   "id": "b6fc529d",
   "metadata": {
    "colab": {
     "base_uri": "https://localhost:8080/",
     "height": 408
    },
    "executionInfo": {
     "elapsed": 541,
     "status": "ok",
     "timestamp": 1629944183531,
     "user": {
      "displayName": "todaycode오늘코드",
      "photoUrl": "https://lh3.googleusercontent.com/a-/AOh14GgLiO5i_xXRR_qAG77avSrsWiiI4KHJR6t4xysb=s64",
      "userId": "06313463015165663090"
     },
     "user_tz": -540
    },
    "id": "b6fc529d",
    "outputId": "1d3a7020-01ee-41eb-8301-521fc0d240c7"
   },
   "outputs": [
    {
     "data": {
      "text/html": [
       "<div>\n",
       "<style scoped>\n",
       "    .dataframe tbody tr th:only-of-type {\n",
       "        vertical-align: middle;\n",
       "    }\n",
       "\n",
       "    .dataframe tbody tr th {\n",
       "        vertical-align: top;\n",
       "    }\n",
       "\n",
       "    .dataframe thead th {\n",
       "        text-align: right;\n",
       "    }\n",
       "</style>\n",
       "<table border=\"1\" class=\"dataframe\">\n",
       "  <thead>\n",
       "    <tr style=\"text-align: right;\">\n",
       "      <th></th>\n",
       "      <th>pretest</th>\n",
       "      <th>posttest</th>\n",
       "    </tr>\n",
       "  </thead>\n",
       "  <tbody>\n",
       "    <tr>\n",
       "      <th>0</th>\n",
       "      <td>62.0</td>\n",
       "      <td>72.0</td>\n",
       "    </tr>\n",
       "    <tr>\n",
       "      <th>1</th>\n",
       "      <td>66.0</td>\n",
       "      <td>79.0</td>\n",
       "    </tr>\n",
       "    <tr>\n",
       "      <th>2</th>\n",
       "      <td>64.0</td>\n",
       "      <td>76.0</td>\n",
       "    </tr>\n",
       "    <tr>\n",
       "      <th>3</th>\n",
       "      <td>61.0</td>\n",
       "      <td>77.0</td>\n",
       "    </tr>\n",
       "    <tr>\n",
       "      <th>4</th>\n",
       "      <td>64.0</td>\n",
       "      <td>76.0</td>\n",
       "    </tr>\n",
       "    <tr>\n",
       "      <th>...</th>\n",
       "      <td>...</td>\n",
       "      <td>...</td>\n",
       "    </tr>\n",
       "    <tr>\n",
       "      <th>2128</th>\n",
       "      <td>39.0</td>\n",
       "      <td>55.0</td>\n",
       "    </tr>\n",
       "    <tr>\n",
       "      <th>2129</th>\n",
       "      <td>38.0</td>\n",
       "      <td>46.0</td>\n",
       "    </tr>\n",
       "    <tr>\n",
       "      <th>2130</th>\n",
       "      <td>45.0</td>\n",
       "      <td>51.0</td>\n",
       "    </tr>\n",
       "    <tr>\n",
       "      <th>2131</th>\n",
       "      <td>46.0</td>\n",
       "      <td>53.0</td>\n",
       "    </tr>\n",
       "    <tr>\n",
       "      <th>2132</th>\n",
       "      <td>41.0</td>\n",
       "      <td>48.0</td>\n",
       "    </tr>\n",
       "  </tbody>\n",
       "</table>\n",
       "<p>2133 rows × 2 columns</p>\n",
       "</div>"
      ],
      "text/plain": [
       "      pretest  posttest\n",
       "0        62.0      72.0\n",
       "1        66.0      79.0\n",
       "2        64.0      76.0\n",
       "3        61.0      77.0\n",
       "4        64.0      76.0\n",
       "...       ...       ...\n",
       "2128     39.0      55.0\n",
       "2129     38.0      46.0\n",
       "2130     45.0      51.0\n",
       "2131     46.0      53.0\n",
       "2132     41.0      48.0\n",
       "\n",
       "[2133 rows x 2 columns]"
      ]
     },
     "execution_count": 35,
     "metadata": {},
     "output_type": "execute_result"
    }
   ],
   "source": [
    "df_test = df[[\"pretest\", \"posttest\"]]\n",
    "df_test"
   ]
  },
  {
   "cell_type": "code",
   "execution_count": 36,
   "id": "4cef598d",
   "metadata": {
    "colab": {
     "base_uri": "https://localhost:8080/",
     "height": 108
    },
    "executionInfo": {
     "elapsed": 377,
     "status": "ok",
     "timestamp": 1629944193268,
     "user": {
      "displayName": "todaycode오늘코드",
      "photoUrl": "https://lh3.googleusercontent.com/a-/AOh14GgLiO5i_xXRR_qAG77avSrsWiiI4KHJR6t4xysb=s64",
      "userId": "06313463015165663090"
     },
     "user_tz": -540
    },
    "id": "4cef598d",
    "outputId": "4b89c818-2923-4256-833a-ebedac175086"
   },
   "outputs": [
    {
     "data": {
      "text/html": [
       "<div>\n",
       "<style scoped>\n",
       "    .dataframe tbody tr th:only-of-type {\n",
       "        vertical-align: middle;\n",
       "    }\n",
       "\n",
       "    .dataframe tbody tr th {\n",
       "        vertical-align: top;\n",
       "    }\n",
       "\n",
       "    .dataframe thead th {\n",
       "        text-align: right;\n",
       "    }\n",
       "</style>\n",
       "<table border=\"1\" class=\"dataframe\">\n",
       "  <thead>\n",
       "    <tr style=\"text-align: right;\">\n",
       "      <th></th>\n",
       "      <th>pretest</th>\n",
       "      <th>posttest</th>\n",
       "    </tr>\n",
       "  </thead>\n",
       "  <tbody>\n",
       "    <tr>\n",
       "      <th>pretest</th>\n",
       "      <td>1.000000</td>\n",
       "      <td>0.950884</td>\n",
       "    </tr>\n",
       "    <tr>\n",
       "      <th>posttest</th>\n",
       "      <td>0.950884</td>\n",
       "      <td>1.000000</td>\n",
       "    </tr>\n",
       "  </tbody>\n",
       "</table>\n",
       "</div>"
      ],
      "text/plain": [
       "           pretest  posttest\n",
       "pretest   1.000000  0.950884\n",
       "posttest  0.950884  1.000000"
      ]
     },
     "execution_count": 36,
     "metadata": {},
     "output_type": "execute_result"
    }
   ],
   "source": [
    "test_corr = df_test.corr()\n",
    "test_corr"
   ]
  },
  {
   "cell_type": "code",
   "execution_count": 37,
   "id": "75604e5a",
   "metadata": {
    "colab": {
     "base_uri": "https://localhost:8080/",
     "height": 398
    },
    "executionInfo": {
     "elapsed": 1140,
     "status": "ok",
     "timestamp": 1629944195912,
     "user": {
      "displayName": "todaycode오늘코드",
      "photoUrl": "https://lh3.googleusercontent.com/a-/AOh14GgLiO5i_xXRR_qAG77avSrsWiiI4KHJR6t4xysb=s64",
      "userId": "06313463015165663090"
     },
     "user_tz": -540
    },
    "id": "75604e5a",
    "outputId": "7a45aa21-6e96-419e-a0fb-9f1454bec839"
   },
   "outputs": [
    {
     "data": {
      "text/plain": [
       "<seaborn.axisgrid.FacetGrid at 0x7fdfd1261af0>"
      ]
     },
     "execution_count": 37,
     "metadata": {},
     "output_type": "execute_result"
    },
    {
     "data": {
      "image/png": "[encoded data removed]",
      "text/plain": [
       "<Figure size 360x360 with 1 Axes>"
      ]
     },
     "metadata": {
      "needs_background": "light"
     },
     "output_type": "display_data"
    }
   ],
   "source": [
    "sns.lmplot(data=df_test, x=\"pretest\", y=\"posttest\")"
   ]
  },
  {
   "cell_type": "markdown",
   "id": "4b930705",
   "metadata": {
    "id": "4b930705"
   },
   "source": [
    "## lunch qualification(소득 수준)에 따라 시험 결과가 다를 것이다."
   ]
  },
  {
   "cell_type": "code",
   "execution_count": 38,
   "id": "223e4c1d",
   "metadata": {
    "colab": {
     "base_uri": "https://localhost:8080/",
     "height": 398
    },
    "executionInfo": {
     "elapsed": 1398,
     "status": "ok",
     "timestamp": 1629944204862,
     "user": {
      "displayName": "todaycode오늘코드",
      "photoUrl": "https://lh3.googleusercontent.com/a-/AOh14GgLiO5i_xXRR_qAG77avSrsWiiI4KHJR6t4xysb=s64",
      "userId": "06313463015165663090"
     },
     "user_tz": -540
    },
    "id": "223e4c1d",
    "outputId": "3ec0427c-d6ee-44ae-8a3d-8125d763e1d0"
   },
   "outputs": [
    {
     "data": {
      "text/plain": [
       "<seaborn.axisgrid.FacetGrid at 0x7fdff28a29a0>"
      ]
     },
     "execution_count": 38,
     "metadata": {},
     "output_type": "execute_result"
    },
    {
     "data": {
      "image/png": "[encoded data removed]",
      "text/plain": [
       "<Figure size 402.375x360 with 1 Axes>"
      ]
     },
     "metadata": {
      "needs_background": "light"
     },
     "output_type": "display_data"
    }
   ],
   "source": [
    "sns.lmplot(data=df, x=\"pretest\", y=\"posttest\", hue=\"lunch\")"
   ]
  },
  {
   "cell_type": "code",
   "execution_count": 39,
   "id": "4f666bb9",
   "metadata": {
    "colab": {
     "base_uri": "https://localhost:8080/",
     "height": 295
    },
    "executionInfo": {
     "elapsed": 508,
     "status": "ok",
     "timestamp": 1629944210295,
     "user": {
      "displayName": "todaycode오늘코드",
      "photoUrl": "https://lh3.googleusercontent.com/a-/AOh14GgLiO5i_xXRR_qAG77avSrsWiiI4KHJR6t4xysb=s64",
      "userId": "06313463015165663090"
     },
     "user_tz": -540
    },
    "id": "4f666bb9",
    "outputId": "757adac1-3434-4510-e20e-09441258bad1"
   },
   "outputs": [
    {
     "data": {
      "text/plain": [
       "<AxesSubplot:xlabel='lunch', ylabel='posttest'>"
      ]
     },
     "execution_count": 39,
     "metadata": {},
     "output_type": "execute_result"
    },
    {
     "data": {
      "image/png": "[encoded data removed]",
      "text/plain": [
       "<Figure size 432x288 with 1 Axes>"
      ]
     },
     "metadata": {
      "needs_background": "light"
     },
     "output_type": "display_data"
    }
   ],
   "source": [
    "sns.boxplot(data=df, x=\"lunch\", y=\"pretest\", color=\"Blue\")\n",
    "sns.boxplot(data=df, x=\"lunch\", y=\"posttest\", color=\"Orange\")"
   ]
  },
  {
   "cell_type": "markdown",
   "id": "ea9a8738",
   "metadata": {
    "id": "ea9a8738"
   },
   "source": [
    "* 소득수준이 높을수록 pretest, posttest에 대한 점수가 높음"
   ]
  },
  {
   "cell_type": "markdown",
   "id": "d5681e1c",
   "metadata": {
    "id": "d5681e1c"
   },
   "source": [
    "# heatmap으로 상관관계 확인하기"
   ]
  },
  {
   "cell_type": "code",
   "execution_count": 40,
   "id": "8f99a410",
   "metadata": {
    "colab": {
     "base_uri": "https://localhost:8080/",
     "height": 200
    },
    "executionInfo": {
     "elapsed": 380,
     "status": "ok",
     "timestamp": 1629944223704,
     "user": {
      "displayName": "todaycode오늘코드",
      "photoUrl": "https://lh3.googleusercontent.com/a-/AOh14GgLiO5i_xXRR_qAG77avSrsWiiI4KHJR6t4xysb=s64",
      "userId": "06313463015165663090"
     },
     "user_tz": -540
    },
    "id": "8f99a410",
    "outputId": "e29d307e-953d-440b-ede4-b89fefb767fc"
   },
   "outputs": [
    {
     "data": {
      "text/html": [
       "<div>\n",
       "<style scoped>\n",
       "    .dataframe tbody tr th:only-of-type {\n",
       "        vertical-align: middle;\n",
       "    }\n",
       "\n",
       "    .dataframe tbody tr th {\n",
       "        vertical-align: top;\n",
       "    }\n",
       "\n",
       "    .dataframe thead th {\n",
       "        text-align: right;\n",
       "    }\n",
       "</style>\n",
       "<table border=\"1\" class=\"dataframe\">\n",
       "  <thead>\n",
       "    <tr style=\"text-align: right;\">\n",
       "      <th></th>\n",
       "      <th>school</th>\n",
       "      <th>school_setting</th>\n",
       "      <th>school_type</th>\n",
       "      <th>classroom</th>\n",
       "      <th>teaching_method</th>\n",
       "      <th>n_student</th>\n",
       "      <th>gender</th>\n",
       "      <th>lunch</th>\n",
       "      <th>pretest</th>\n",
       "      <th>posttest</th>\n",
       "    </tr>\n",
       "  </thead>\n",
       "  <tbody>\n",
       "    <tr>\n",
       "      <th>0</th>\n",
       "      <td>ANKYI</td>\n",
       "      <td>Urban</td>\n",
       "      <td>Non-public</td>\n",
       "      <td>6OL</td>\n",
       "      <td>Standard</td>\n",
       "      <td>20.0</td>\n",
       "      <td>Female</td>\n",
       "      <td>0</td>\n",
       "      <td>62.0</td>\n",
       "      <td>72.0</td>\n",
       "    </tr>\n",
       "    <tr>\n",
       "      <th>1</th>\n",
       "      <td>ANKYI</td>\n",
       "      <td>Urban</td>\n",
       "      <td>Non-public</td>\n",
       "      <td>6OL</td>\n",
       "      <td>Standard</td>\n",
       "      <td>20.0</td>\n",
       "      <td>Female</td>\n",
       "      <td>0</td>\n",
       "      <td>66.0</td>\n",
       "      <td>79.0</td>\n",
       "    </tr>\n",
       "    <tr>\n",
       "      <th>2</th>\n",
       "      <td>ANKYI</td>\n",
       "      <td>Urban</td>\n",
       "      <td>Non-public</td>\n",
       "      <td>6OL</td>\n",
       "      <td>Standard</td>\n",
       "      <td>20.0</td>\n",
       "      <td>Male</td>\n",
       "      <td>0</td>\n",
       "      <td>64.0</td>\n",
       "      <td>76.0</td>\n",
       "    </tr>\n",
       "    <tr>\n",
       "      <th>3</th>\n",
       "      <td>ANKYI</td>\n",
       "      <td>Urban</td>\n",
       "      <td>Non-public</td>\n",
       "      <td>6OL</td>\n",
       "      <td>Standard</td>\n",
       "      <td>20.0</td>\n",
       "      <td>Female</td>\n",
       "      <td>0</td>\n",
       "      <td>61.0</td>\n",
       "      <td>77.0</td>\n",
       "    </tr>\n",
       "    <tr>\n",
       "      <th>4</th>\n",
       "      <td>ANKYI</td>\n",
       "      <td>Urban</td>\n",
       "      <td>Non-public</td>\n",
       "      <td>6OL</td>\n",
       "      <td>Standard</td>\n",
       "      <td>20.0</td>\n",
       "      <td>Male</td>\n",
       "      <td>0</td>\n",
       "      <td>64.0</td>\n",
       "      <td>76.0</td>\n",
       "    </tr>\n",
       "  </tbody>\n",
       "</table>\n",
       "</div>"
      ],
      "text/plain": [
       "  school school_setting school_type classroom teaching_method  n_student  \\\n",
       "0  ANKYI          Urban  Non-public       6OL        Standard       20.0   \n",
       "1  ANKYI          Urban  Non-public       6OL        Standard       20.0   \n",
       "2  ANKYI          Urban  Non-public       6OL        Standard       20.0   \n",
       "3  ANKYI          Urban  Non-public       6OL        Standard       20.0   \n",
       "4  ANKYI          Urban  Non-public       6OL        Standard       20.0   \n",
       "\n",
       "   gender  lunch  pretest  posttest  \n",
       "0  Female      0     62.0      72.0  \n",
       "1  Female      0     66.0      79.0  \n",
       "2    Male      0     64.0      76.0  \n",
       "3  Female      0     61.0      77.0  \n",
       "4    Male      0     64.0      76.0  "
      ]
     },
     "execution_count": 40,
     "metadata": {},
     "output_type": "execute_result"
    }
   ],
   "source": [
    "corr_df = df.drop(['student_id'],1)\n",
    "corr_df.head()"
   ]
  },
  {
   "cell_type": "code",
   "execution_count": 41,
   "id": "293e3984",
   "metadata": {
    "colab": {
     "base_uri": "https://localhost:8080/",
     "height": 351
    },
    "executionInfo": {
     "elapsed": 4,
     "status": "ok",
     "timestamp": 1629944225321,
     "user": {
      "displayName": "todaycode오늘코드",
      "photoUrl": "https://lh3.googleusercontent.com/a-/AOh14GgLiO5i_xXRR_qAG77avSrsWiiI4KHJR6t4xysb=s64",
      "userId": "06313463015165663090"
     },
     "user_tz": -540
    },
    "id": "293e3984",
    "outputId": "b9f4570b-ff5a-455e-bfc8-607e6dad1467"
   },
   "outputs": [
    {
     "data": {
      "text/html": [
       "<div>\n",
       "<style scoped>\n",
       "    .dataframe tbody tr th:only-of-type {\n",
       "        vertical-align: middle;\n",
       "    }\n",
       "\n",
       "    .dataframe tbody tr th {\n",
       "        vertical-align: top;\n",
       "    }\n",
       "\n",
       "    .dataframe thead th {\n",
       "        text-align: right;\n",
       "    }\n",
       "</style>\n",
       "<table border=\"1\" class=\"dataframe\">\n",
       "  <thead>\n",
       "    <tr style=\"text-align: right;\">\n",
       "      <th></th>\n",
       "      <th>school</th>\n",
       "      <th>school_setting</th>\n",
       "      <th>school_type</th>\n",
       "      <th>classroom</th>\n",
       "      <th>teaching_method</th>\n",
       "      <th>n_student</th>\n",
       "      <th>gender</th>\n",
       "      <th>lunch</th>\n",
       "      <th>pretest</th>\n",
       "      <th>posttest</th>\n",
       "    </tr>\n",
       "  </thead>\n",
       "  <tbody>\n",
       "    <tr>\n",
       "      <th>school</th>\n",
       "      <td>1.000000</td>\n",
       "      <td>-0.079447</td>\n",
       "      <td>0.330104</td>\n",
       "      <td>-0.050724</td>\n",
       "      <td>-0.041574</td>\n",
       "      <td>0.178557</td>\n",
       "      <td>-0.018751</td>\n",
       "      <td>0.002883</td>\n",
       "      <td>-0.113094</td>\n",
       "      <td>-0.107797</td>\n",
       "    </tr>\n",
       "    <tr>\n",
       "      <th>school_setting</th>\n",
       "      <td>-0.079447</td>\n",
       "      <td>1.000000</td>\n",
       "      <td>-0.083307</td>\n",
       "      <td>0.081313</td>\n",
       "      <td>0.082795</td>\n",
       "      <td>0.508018</td>\n",
       "      <td>-0.036581</td>\n",
       "      <td>0.025744</td>\n",
       "      <td>-0.123622</td>\n",
       "      <td>-0.139203</td>\n",
       "    </tr>\n",
       "    <tr>\n",
       "      <th>school_type</th>\n",
       "      <td>0.330104</td>\n",
       "      <td>-0.083307</td>\n",
       "      <td>1.000000</td>\n",
       "      <td>0.141215</td>\n",
       "      <td>0.153593</td>\n",
       "      <td>0.548190</td>\n",
       "      <td>0.017593</td>\n",
       "      <td>0.171196</td>\n",
       "      <td>-0.361180</td>\n",
       "      <td>-0.373928</td>\n",
       "    </tr>\n",
       "    <tr>\n",
       "      <th>classroom</th>\n",
       "      <td>-0.050724</td>\n",
       "      <td>0.081313</td>\n",
       "      <td>0.141215</td>\n",
       "      <td>1.000000</td>\n",
       "      <td>-0.016094</td>\n",
       "      <td>0.037150</td>\n",
       "      <td>0.005535</td>\n",
       "      <td>0.115873</td>\n",
       "      <td>-0.037016</td>\n",
       "      <td>-0.031087</td>\n",
       "    </tr>\n",
       "    <tr>\n",
       "      <th>teaching_method</th>\n",
       "      <td>-0.041574</td>\n",
       "      <td>0.082795</td>\n",
       "      <td>0.153593</td>\n",
       "      <td>-0.016094</td>\n",
       "      <td>1.000000</td>\n",
       "      <td>0.105900</td>\n",
       "      <td>-0.020087</td>\n",
       "      <td>0.017970</td>\n",
       "      <td>-0.115189</td>\n",
       "      <td>-0.312885</td>\n",
       "    </tr>\n",
       "    <tr>\n",
       "      <th>n_student</th>\n",
       "      <td>0.178557</td>\n",
       "      <td>0.508018</td>\n",
       "      <td>0.548190</td>\n",
       "      <td>0.037150</td>\n",
       "      <td>0.105900</td>\n",
       "      <td>1.000000</td>\n",
       "      <td>-0.019265</td>\n",
       "      <td>0.367018</td>\n",
       "      <td>-0.499263</td>\n",
       "      <td>-0.504887</td>\n",
       "    </tr>\n",
       "    <tr>\n",
       "      <th>gender</th>\n",
       "      <td>-0.018751</td>\n",
       "      <td>-0.036581</td>\n",
       "      <td>0.017593</td>\n",
       "      <td>0.005535</td>\n",
       "      <td>-0.020087</td>\n",
       "      <td>-0.019265</td>\n",
       "      <td>1.000000</td>\n",
       "      <td>-0.016134</td>\n",
       "      <td>0.005947</td>\n",
       "      <td>0.006869</td>\n",
       "    </tr>\n",
       "    <tr>\n",
       "      <th>lunch</th>\n",
       "      <td>0.002883</td>\n",
       "      <td>0.025744</td>\n",
       "      <td>0.171196</td>\n",
       "      <td>0.115873</td>\n",
       "      <td>0.017970</td>\n",
       "      <td>0.367018</td>\n",
       "      <td>-0.016134</td>\n",
       "      <td>1.000000</td>\n",
       "      <td>-0.622526</td>\n",
       "      <td>-0.598382</td>\n",
       "    </tr>\n",
       "    <tr>\n",
       "      <th>pretest</th>\n",
       "      <td>-0.113094</td>\n",
       "      <td>-0.123622</td>\n",
       "      <td>-0.361180</td>\n",
       "      <td>-0.037016</td>\n",
       "      <td>-0.115189</td>\n",
       "      <td>-0.499263</td>\n",
       "      <td>0.005947</td>\n",
       "      <td>-0.622526</td>\n",
       "      <td>1.000000</td>\n",
       "      <td>0.950959</td>\n",
       "    </tr>\n",
       "    <tr>\n",
       "      <th>posttest</th>\n",
       "      <td>-0.107797</td>\n",
       "      <td>-0.139203</td>\n",
       "      <td>-0.373928</td>\n",
       "      <td>-0.031087</td>\n",
       "      <td>-0.312885</td>\n",
       "      <td>-0.504887</td>\n",
       "      <td>0.006869</td>\n",
       "      <td>-0.598382</td>\n",
       "      <td>0.950959</td>\n",
       "      <td>1.000000</td>\n",
       "    </tr>\n",
       "  </tbody>\n",
       "</table>\n",
       "</div>"
      ],
      "text/plain": [
       "                   school  school_setting  school_type  classroom  \\\n",
       "school           1.000000       -0.079447     0.330104  -0.050724   \n",
       "school_setting  -0.079447        1.000000    -0.083307   0.081313   \n",
       "school_type      0.330104       -0.083307     1.000000   0.141215   \n",
       "classroom       -0.050724        0.081313     0.141215   1.000000   \n",
       "teaching_method -0.041574        0.082795     0.153593  -0.016094   \n",
       "n_student        0.178557        0.508018     0.548190   0.037150   \n",
       "gender          -0.018751       -0.036581     0.017593   0.005535   \n",
       "lunch            0.002883        0.025744     0.171196   0.115873   \n",
       "pretest         -0.113094       -0.123622    -0.361180  -0.037016   \n",
       "posttest        -0.107797       -0.139203    -0.373928  -0.031087   \n",
       "\n",
       "                 teaching_method  n_student    gender     lunch   pretest  \\\n",
       "school                 -0.041574   0.178557 -0.018751  0.002883 -0.113094   \n",
       "school_setting          0.082795   0.508018 -0.036581  0.025744 -0.123622   \n",
       "school_type             0.153593   0.548190  0.017593  0.171196 -0.361180   \n",
       "classroom              -0.016094   0.037150  0.005535  0.115873 -0.037016   \n",
       "teaching_method         1.000000   0.105900 -0.020087  0.017970 -0.115189   \n",
       "n_student               0.105900   1.000000 -0.019265  0.367018 -0.499263   \n",
       "gender                 -0.020087  -0.019265  1.000000 -0.016134  0.005947   \n",
       "lunch                   0.017970   0.367018 -0.016134  1.000000 -0.622526   \n",
       "pretest                -0.115189  -0.499263  0.005947 -0.622526  1.000000   \n",
       "posttest               -0.312885  -0.504887  0.006869 -0.598382  0.950959   \n",
       "\n",
       "                 posttest  \n",
       "school          -0.107797  \n",
       "school_setting  -0.139203  \n",
       "school_type     -0.373928  \n",
       "classroom       -0.031087  \n",
       "teaching_method -0.312885  \n",
       "n_student       -0.504887  \n",
       "gender           0.006869  \n",
       "lunch           -0.598382  \n",
       "pretest          0.950959  \n",
       "posttest         1.000000  "
      ]
     },
     "execution_count": 41,
     "metadata": {},
     "output_type": "execute_result"
    }
   ],
   "source": [
    "col_list = ['school','school_setting','school_type','classroom','teaching_method','n_student'\n",
    "            ,'gender','lunch','pretest','posttest']\n",
    "\n",
    "for i in col_list:\n",
    "    corr_df[i] = corr_df[i].astype('category').cat.codes\n",
    "\n",
    "df_corr = corr_df.corr()\n",
    "df_corr"
   ]
  },
  {
   "cell_type": "code",
   "execution_count": 42,
   "id": "22bf9f6f",
   "metadata": {
    "colab": {
     "base_uri": "https://localhost:8080/",
     "height": 688
    },
    "executionInfo": {
     "elapsed": 1894,
     "status": "ok",
     "timestamp": 1629944237697,
     "user": {
      "displayName": "todaycode오늘코드",
      "photoUrl": "https://lh3.googleusercontent.com/a-/AOh14GgLiO5i_xXRR_qAG77avSrsWiiI4KHJR6t4xysb=s64",
      "userId": "06313463015165663090"
     },
     "user_tz": -540
    },
    "id": "22bf9f6f",
    "outputId": "ebbbce29-1662-4564-fcf9-375ce2fadbc0"
   },
   "outputs": [
    {
     "data": {
      "text/plain": [
       "<AxesSubplot:>"
      ]
     },
     "execution_count": 42,
     "metadata": {},
     "output_type": "execute_result"
    },
    {
     "data": {
      "image/png": "[encoded data removed]",
      "text/plain": [
       "<Figure size 1080x720 with 2 Axes>"
      ]
     },
     "metadata": {
      "needs_background": "light"
     },
     "output_type": "display_data"
    }
   ],
   "source": [
    "plt.figure(figsize=(15,10))\n",
    "sns.heatmap(df_corr, annot=True, cmap=\"coolwarm\", vmin=-1)"
   ]
  },
  {
   "cell_type": "markdown",
   "id": "7931f661",
   "metadata": {
    "id": "7931f661"
   },
   "source": [
    "# machine learning - pretest => posttest 예측"
   ]
  },
  {
   "cell_type": "markdown",
   "id": "3845ebc1",
   "metadata": {
    "id": "3845ebc1"
   },
   "source": [
    "## data 범주형 => 수치형"
   ]
  },
  {
   "cell_type": "code",
   "execution_count": 43,
   "id": "19b6840d",
   "metadata": {
    "colab": {
     "base_uri": "https://localhost:8080/",
     "height": 200
    },
    "executionInfo": {
     "elapsed": 925,
     "status": "ok",
     "timestamp": 1629944269529,
     "user": {
      "displayName": "todaycode오늘코드",
      "photoUrl": "https://lh3.googleusercontent.com/a-/AOh14GgLiO5i_xXRR_qAG77avSrsWiiI4KHJR6t4xysb=s64",
      "userId": "06313463015165663090"
     },
     "user_tz": -540
    },
    "id": "19b6840d",
    "outputId": "541842a2-4596-4580-b2ef-693bf6f58ec0"
   },
   "outputs": [
    {
     "data": {
      "text/html": [
       "<div>\n",
       "<style scoped>\n",
       "    .dataframe tbody tr th:only-of-type {\n",
       "        vertical-align: middle;\n",
       "    }\n",
       "\n",
       "    .dataframe tbody tr th {\n",
       "        vertical-align: top;\n",
       "    }\n",
       "\n",
       "    .dataframe thead th {\n",
       "        text-align: right;\n",
       "    }\n",
       "</style>\n",
       "<table border=\"1\" class=\"dataframe\">\n",
       "  <thead>\n",
       "    <tr style=\"text-align: right;\">\n",
       "      <th></th>\n",
       "      <th>school</th>\n",
       "      <th>school_setting</th>\n",
       "      <th>school_type</th>\n",
       "      <th>classroom</th>\n",
       "      <th>teaching_method</th>\n",
       "      <th>n_student</th>\n",
       "      <th>student_id</th>\n",
       "      <th>gender</th>\n",
       "      <th>lunch</th>\n",
       "      <th>pretest</th>\n",
       "      <th>posttest</th>\n",
       "    </tr>\n",
       "  </thead>\n",
       "  <tbody>\n",
       "    <tr>\n",
       "      <th>0</th>\n",
       "      <td>ANKYI</td>\n",
       "      <td>Urban</td>\n",
       "      <td>Non-public</td>\n",
       "      <td>6OL</td>\n",
       "      <td>Standard</td>\n",
       "      <td>20.0</td>\n",
       "      <td>2FHT3</td>\n",
       "      <td>Female</td>\n",
       "      <td>0</td>\n",
       "      <td>62.0</td>\n",
       "      <td>72.0</td>\n",
       "    </tr>\n",
       "    <tr>\n",
       "      <th>1</th>\n",
       "      <td>ANKYI</td>\n",
       "      <td>Urban</td>\n",
       "      <td>Non-public</td>\n",
       "      <td>6OL</td>\n",
       "      <td>Standard</td>\n",
       "      <td>20.0</td>\n",
       "      <td>3JIVH</td>\n",
       "      <td>Female</td>\n",
       "      <td>0</td>\n",
       "      <td>66.0</td>\n",
       "      <td>79.0</td>\n",
       "    </tr>\n",
       "    <tr>\n",
       "      <th>2</th>\n",
       "      <td>ANKYI</td>\n",
       "      <td>Urban</td>\n",
       "      <td>Non-public</td>\n",
       "      <td>6OL</td>\n",
       "      <td>Standard</td>\n",
       "      <td>20.0</td>\n",
       "      <td>3XOWE</td>\n",
       "      <td>Male</td>\n",
       "      <td>0</td>\n",
       "      <td>64.0</td>\n",
       "      <td>76.0</td>\n",
       "    </tr>\n",
       "    <tr>\n",
       "      <th>3</th>\n",
       "      <td>ANKYI</td>\n",
       "      <td>Urban</td>\n",
       "      <td>Non-public</td>\n",
       "      <td>6OL</td>\n",
       "      <td>Standard</td>\n",
       "      <td>20.0</td>\n",
       "      <td>556O0</td>\n",
       "      <td>Female</td>\n",
       "      <td>0</td>\n",
       "      <td>61.0</td>\n",
       "      <td>77.0</td>\n",
       "    </tr>\n",
       "    <tr>\n",
       "      <th>4</th>\n",
       "      <td>ANKYI</td>\n",
       "      <td>Urban</td>\n",
       "      <td>Non-public</td>\n",
       "      <td>6OL</td>\n",
       "      <td>Standard</td>\n",
       "      <td>20.0</td>\n",
       "      <td>74LOE</td>\n",
       "      <td>Male</td>\n",
       "      <td>0</td>\n",
       "      <td>64.0</td>\n",
       "      <td>76.0</td>\n",
       "    </tr>\n",
       "  </tbody>\n",
       "</table>\n",
       "</div>"
      ],
      "text/plain": [
       "  school school_setting school_type classroom teaching_method  n_student  \\\n",
       "0  ANKYI          Urban  Non-public       6OL        Standard       20.0   \n",
       "1  ANKYI          Urban  Non-public       6OL        Standard       20.0   \n",
       "2  ANKYI          Urban  Non-public       6OL        Standard       20.0   \n",
       "3  ANKYI          Urban  Non-public       6OL        Standard       20.0   \n",
       "4  ANKYI          Urban  Non-public       6OL        Standard       20.0   \n",
       "\n",
       "  student_id  gender  lunch  pretest  posttest  \n",
       "0      2FHT3  Female      0     62.0      72.0  \n",
       "1      3JIVH  Female      0     66.0      79.0  \n",
       "2      3XOWE    Male      0     64.0      76.0  \n",
       "3      556O0  Female      0     61.0      77.0  \n",
       "4      74LOE    Male      0     64.0      76.0  "
      ]
     },
     "execution_count": 43,
     "metadata": {},
     "output_type": "execute_result"
    }
   ],
   "source": [
    "df.head()"
   ]
  },
  {
   "cell_type": "code",
   "execution_count": 44,
   "id": "d9a61221",
   "metadata": {
    "executionInfo": {
     "elapsed": 2,
     "status": "ok",
     "timestamp": 1629944270058,
     "user": {
      "displayName": "todaycode오늘코드",
      "photoUrl": "https://lh3.googleusercontent.com/a-/AOh14GgLiO5i_xXRR_qAG77avSrsWiiI4KHJR6t4xysb=s64",
      "userId": "06313463015165663090"
     },
     "user_tz": -540
    },
    "id": "d9a61221"
   },
   "outputs": [],
   "source": [
    "from sklearn.preprocessing import LabelEncoder\n",
    "label_encoder = LabelEncoder()\n",
    "\n",
    "df[\"school\"] = label_encoder.fit_transform(df[\"school\"])\n",
    "df[\"school_setting\"] = label_encoder.fit_transform(df[\"school_setting\"])\n",
    "df['school_type'] = label_encoder.fit_transform(df['school_type']) \n",
    "df[\"classroom\"] = label_encoder.fit_transform(df[\"classroom\"])\n",
    "df['teaching_method'] = label_encoder.fit_transform(df['teaching_method']) \n",
    "df['gender'] = label_encoder.fit_transform(df['gender']) \n",
    "df['lunch'] = label_encoder.fit_transform(df['lunch']) "
   ]
  },
  {
   "cell_type": "code",
   "execution_count": 45,
   "id": "084e00ab",
   "metadata": {
    "colab": {
     "base_uri": "https://localhost:8080/",
     "height": 200
    },
    "executionInfo": {
     "elapsed": 419,
     "status": "ok",
     "timestamp": 1629944546173,
     "user": {
      "displayName": "todaycode오늘코드",
      "photoUrl": "https://lh3.googleusercontent.com/a-/AOh14GgLiO5i_xXRR_qAG77avSrsWiiI4KHJR6t4xysb=s64",
      "userId": "06313463015165663090"
     },
     "user_tz": -540
    },
    "id": "084e00ab",
    "outputId": "96eef4de-d663-4a93-b729-0765bc9cf455"
   },
   "outputs": [
    {
     "data": {
      "text/html": [
       "<div>\n",
       "<style scoped>\n",
       "    .dataframe tbody tr th:only-of-type {\n",
       "        vertical-align: middle;\n",
       "    }\n",
       "\n",
       "    .dataframe tbody tr th {\n",
       "        vertical-align: top;\n",
       "    }\n",
       "\n",
       "    .dataframe thead th {\n",
       "        text-align: right;\n",
       "    }\n",
       "</style>\n",
       "<table border=\"1\" class=\"dataframe\">\n",
       "  <thead>\n",
       "    <tr style=\"text-align: right;\">\n",
       "      <th></th>\n",
       "      <th>school</th>\n",
       "      <th>school_setting</th>\n",
       "      <th>school_type</th>\n",
       "      <th>classroom</th>\n",
       "      <th>teaching_method</th>\n",
       "      <th>n_student</th>\n",
       "      <th>gender</th>\n",
       "      <th>lunch</th>\n",
       "      <th>pretest</th>\n",
       "      <th>posttest</th>\n",
       "    </tr>\n",
       "  </thead>\n",
       "  <tbody>\n",
       "    <tr>\n",
       "      <th>0</th>\n",
       "      <td>0</td>\n",
       "      <td>2</td>\n",
       "      <td>0</td>\n",
       "      <td>22</td>\n",
       "      <td>1</td>\n",
       "      <td>20.0</td>\n",
       "      <td>0</td>\n",
       "      <td>0</td>\n",
       "      <td>62.0</td>\n",
       "      <td>72.0</td>\n",
       "    </tr>\n",
       "    <tr>\n",
       "      <th>1</th>\n",
       "      <td>0</td>\n",
       "      <td>2</td>\n",
       "      <td>0</td>\n",
       "      <td>22</td>\n",
       "      <td>1</td>\n",
       "      <td>20.0</td>\n",
       "      <td>0</td>\n",
       "      <td>0</td>\n",
       "      <td>66.0</td>\n",
       "      <td>79.0</td>\n",
       "    </tr>\n",
       "    <tr>\n",
       "      <th>2</th>\n",
       "      <td>0</td>\n",
       "      <td>2</td>\n",
       "      <td>0</td>\n",
       "      <td>22</td>\n",
       "      <td>1</td>\n",
       "      <td>20.0</td>\n",
       "      <td>1</td>\n",
       "      <td>0</td>\n",
       "      <td>64.0</td>\n",
       "      <td>76.0</td>\n",
       "    </tr>\n",
       "    <tr>\n",
       "      <th>3</th>\n",
       "      <td>0</td>\n",
       "      <td>2</td>\n",
       "      <td>0</td>\n",
       "      <td>22</td>\n",
       "      <td>1</td>\n",
       "      <td>20.0</td>\n",
       "      <td>0</td>\n",
       "      <td>0</td>\n",
       "      <td>61.0</td>\n",
       "      <td>77.0</td>\n",
       "    </tr>\n",
       "    <tr>\n",
       "      <th>4</th>\n",
       "      <td>0</td>\n",
       "      <td>2</td>\n",
       "      <td>0</td>\n",
       "      <td>22</td>\n",
       "      <td>1</td>\n",
       "      <td>20.0</td>\n",
       "      <td>1</td>\n",
       "      <td>0</td>\n",
       "      <td>64.0</td>\n",
       "      <td>76.0</td>\n",
       "    </tr>\n",
       "  </tbody>\n",
       "</table>\n",
       "</div>"
      ],
      "text/plain": [
       "   school  school_setting  school_type  classroom  teaching_method  n_student  \\\n",
       "0       0               2            0         22                1       20.0   \n",
       "1       0               2            0         22                1       20.0   \n",
       "2       0               2            0         22                1       20.0   \n",
       "3       0               2            0         22                1       20.0   \n",
       "4       0               2            0         22                1       20.0   \n",
       "\n",
       "   gender  lunch  pretest  posttest  \n",
       "0       0      0     62.0      72.0  \n",
       "1       0      0     66.0      79.0  \n",
       "2       1      0     64.0      76.0  \n",
       "3       0      0     61.0      77.0  \n",
       "4       1      0     64.0      76.0  "
      ]
     },
     "execution_count": 45,
     "metadata": {},
     "output_type": "execute_result"
    }
   ],
   "source": [
    "clear_df = df.drop(['student_id'], axis=1).copy()\n",
    "clear_df.head()"
   ]
  },
  {
   "cell_type": "markdown",
   "id": "3638ed3f",
   "metadata": {
    "id": "3638ed3f"
   },
   "source": [
    "## test data, train data"
   ]
  },
  {
   "cell_type": "code",
   "execution_count": 46,
   "id": "e92d381a",
   "metadata": {
    "executionInfo": {
     "elapsed": 2,
     "status": "ok",
     "timestamp": 1629944546720,
     "user": {
      "displayName": "todaycode오늘코드",
      "photoUrl": "https://lh3.googleusercontent.com/a-/AOh14GgLiO5i_xXRR_qAG77avSrsWiiI4KHJR6t4xysb=s64",
      "userId": "06313463015165663090"
     },
     "user_tz": -540
    },
    "id": "e92d381a"
   },
   "outputs": [],
   "source": [
    "from sklearn.model_selection import train_test_split\n",
    "from sklearn.linear_model import LinearRegression"
   ]
  },
  {
   "cell_type": "code",
   "execution_count": 47,
   "id": "62249466",
   "metadata": {
    "executionInfo": {
     "elapsed": 2,
     "status": "ok",
     "timestamp": 1629944547567,
     "user": {
      "displayName": "todaycode오늘코드",
      "photoUrl": "https://lh3.googleusercontent.com/a-/AOh14GgLiO5i_xXRR_qAG77avSrsWiiI4KHJR6t4xysb=s64",
      "userId": "06313463015165663090"
     },
     "user_tz": -540
    },
    "id": "62249466"
   },
   "outputs": [],
   "source": [
    "x = clear_df.drop(['posttest'],axis=1)\n",
    "y = clear_df['posttest']\n",
    "\n",
    "X_train, X_test, y_train, y_test = train_test_split(x,y,test_size=0.2, random_state = 123)"
   ]
  },
  {
   "cell_type": "code",
   "execution_count": 48,
   "id": "c00d2e50",
   "metadata": {
    "colab": {
     "base_uri": "https://localhost:8080/"
    },
    "executionInfo": {
     "elapsed": 3,
     "status": "ok",
     "timestamp": 1629944547936,
     "user": {
      "displayName": "todaycode오늘코드",
      "photoUrl": "https://lh3.googleusercontent.com/a-/AOh14GgLiO5i_xXRR_qAG77avSrsWiiI4KHJR6t4xysb=s64",
      "userId": "06313463015165663090"
     },
     "user_tz": -540
    },
    "id": "c00d2e50",
    "outputId": "791947d9-3e0e-427e-ba6b-83274c85067b"
   },
   "outputs": [
    {
     "data": {
      "text/plain": [
       "((1706, 9), (427, 9))"
      ]
     },
     "execution_count": 48,
     "metadata": {},
     "output_type": "execute_result"
    }
   ],
   "source": [
    "X_train.shape, X_test.shape"
   ]
  },
  {
   "cell_type": "code",
   "execution_count": 49,
   "id": "2e1a840a",
   "metadata": {
    "colab": {
     "base_uri": "https://localhost:8080/",
     "height": 408
    },
    "executionInfo": {
     "elapsed": 6,
     "status": "ok",
     "timestamp": 1629944317457,
     "user": {
      "displayName": "todaycode오늘코드",
      "photoUrl": "https://lh3.googleusercontent.com/a-/AOh14GgLiO5i_xXRR_qAG77avSrsWiiI4KHJR6t4xysb=s64",
      "userId": "06313463015165663090"
     },
     "user_tz": -540
    },
    "id": "2e1a840a",
    "outputId": "a798ebe3-b70e-421e-dcee-733edd00c7fc"
   },
   "outputs": [
    {
     "data": {
      "text/html": [
       "<div>\n",
       "<style scoped>\n",
       "    .dataframe tbody tr th:only-of-type {\n",
       "        vertical-align: middle;\n",
       "    }\n",
       "\n",
       "    .dataframe tbody tr th {\n",
       "        vertical-align: top;\n",
       "    }\n",
       "\n",
       "    .dataframe thead th {\n",
       "        text-align: right;\n",
       "    }\n",
       "</style>\n",
       "<table border=\"1\" class=\"dataframe\">\n",
       "  <thead>\n",
       "    <tr style=\"text-align: right;\">\n",
       "      <th></th>\n",
       "      <th>school</th>\n",
       "      <th>school_setting</th>\n",
       "      <th>school_type</th>\n",
       "      <th>classroom</th>\n",
       "      <th>teaching_method</th>\n",
       "      <th>n_student</th>\n",
       "      <th>gender</th>\n",
       "      <th>lunch</th>\n",
       "      <th>pretest</th>\n",
       "    </tr>\n",
       "  </thead>\n",
       "  <tbody>\n",
       "    <tr>\n",
       "      <th>822</th>\n",
       "      <td>8</td>\n",
       "      <td>2</td>\n",
       "      <td>1</td>\n",
       "      <td>83</td>\n",
       "      <td>0</td>\n",
       "      <td>26.0</td>\n",
       "      <td>1</td>\n",
       "      <td>0</td>\n",
       "      <td>45.0</td>\n",
       "    </tr>\n",
       "    <tr>\n",
       "      <th>1453</th>\n",
       "      <td>15</td>\n",
       "      <td>1</td>\n",
       "      <td>1</td>\n",
       "      <td>72</td>\n",
       "      <td>1</td>\n",
       "      <td>21.0</td>\n",
       "      <td>1</td>\n",
       "      <td>0</td>\n",
       "      <td>68.0</td>\n",
       "    </tr>\n",
       "    <tr>\n",
       "      <th>1894</th>\n",
       "      <td>20</td>\n",
       "      <td>2</td>\n",
       "      <td>1</td>\n",
       "      <td>76</td>\n",
       "      <td>1</td>\n",
       "      <td>25.0</td>\n",
       "      <td>0</td>\n",
       "      <td>1</td>\n",
       "      <td>37.0</td>\n",
       "    </tr>\n",
       "    <tr>\n",
       "      <th>226</th>\n",
       "      <td>3</td>\n",
       "      <td>2</td>\n",
       "      <td>1</td>\n",
       "      <td>5</td>\n",
       "      <td>1</td>\n",
       "      <td>28.0</td>\n",
       "      <td>1</td>\n",
       "      <td>0</td>\n",
       "      <td>58.0</td>\n",
       "    </tr>\n",
       "    <tr>\n",
       "      <th>308</th>\n",
       "      <td>3</td>\n",
       "      <td>2</td>\n",
       "      <td>1</td>\n",
       "      <td>85</td>\n",
       "      <td>0</td>\n",
       "      <td>24.0</td>\n",
       "      <td>0</td>\n",
       "      <td>0</td>\n",
       "      <td>56.0</td>\n",
       "    </tr>\n",
       "    <tr>\n",
       "      <th>...</th>\n",
       "      <td>...</td>\n",
       "      <td>...</td>\n",
       "      <td>...</td>\n",
       "      <td>...</td>\n",
       "      <td>...</td>\n",
       "      <td>...</td>\n",
       "      <td>...</td>\n",
       "      <td>...</td>\n",
       "      <td>...</td>\n",
       "    </tr>\n",
       "    <tr>\n",
       "      <th>1593</th>\n",
       "      <td>16</td>\n",
       "      <td>1</td>\n",
       "      <td>1</td>\n",
       "      <td>88</td>\n",
       "      <td>1</td>\n",
       "      <td>22.0</td>\n",
       "      <td>1</td>\n",
       "      <td>0</td>\n",
       "      <td>80.0</td>\n",
       "    </tr>\n",
       "    <tr>\n",
       "      <th>1147</th>\n",
       "      <td>12</td>\n",
       "      <td>0</td>\n",
       "      <td>1</td>\n",
       "      <td>69</td>\n",
       "      <td>0</td>\n",
       "      <td>17.0</td>\n",
       "      <td>0</td>\n",
       "      <td>0</td>\n",
       "      <td>64.0</td>\n",
       "    </tr>\n",
       "    <tr>\n",
       "      <th>1766</th>\n",
       "      <td>19</td>\n",
       "      <td>0</td>\n",
       "      <td>1</td>\n",
       "      <td>35</td>\n",
       "      <td>1</td>\n",
       "      <td>21.0</td>\n",
       "      <td>1</td>\n",
       "      <td>0</td>\n",
       "      <td>67.0</td>\n",
       "    </tr>\n",
       "    <tr>\n",
       "      <th>1122</th>\n",
       "      <td>12</td>\n",
       "      <td>0</td>\n",
       "      <td>1</td>\n",
       "      <td>51</td>\n",
       "      <td>1</td>\n",
       "      <td>19.0</td>\n",
       "      <td>1</td>\n",
       "      <td>0</td>\n",
       "      <td>62.0</td>\n",
       "    </tr>\n",
       "    <tr>\n",
       "      <th>1346</th>\n",
       "      <td>14</td>\n",
       "      <td>2</td>\n",
       "      <td>1</td>\n",
       "      <td>84</td>\n",
       "      <td>0</td>\n",
       "      <td>25.0</td>\n",
       "      <td>1</td>\n",
       "      <td>0</td>\n",
       "      <td>58.0</td>\n",
       "    </tr>\n",
       "  </tbody>\n",
       "</table>\n",
       "<p>1706 rows × 9 columns</p>\n",
       "</div>"
      ],
      "text/plain": [
       "      school  school_setting  school_type  classroom  teaching_method  \\\n",
       "822        8               2            1         83                0   \n",
       "1453      15               1            1         72                1   \n",
       "1894      20               2            1         76                1   \n",
       "226        3               2            1          5                1   \n",
       "308        3               2            1         85                0   \n",
       "...      ...             ...          ...        ...              ...   \n",
       "1593      16               1            1         88                1   \n",
       "1147      12               0            1         69                0   \n",
       "1766      19               0            1         35                1   \n",
       "1122      12               0            1         51                1   \n",
       "1346      14               2            1         84                0   \n",
       "\n",
       "      n_student  gender  lunch  pretest  \n",
       "822        26.0       1      0     45.0  \n",
       "1453       21.0       1      0     68.0  \n",
       "1894       25.0       0      1     37.0  \n",
       "226        28.0       1      0     58.0  \n",
       "308        24.0       0      0     56.0  \n",
       "...         ...     ...    ...      ...  \n",
       "1593       22.0       1      0     80.0  \n",
       "1147       17.0       0      0     64.0  \n",
       "1766       21.0       1      0     67.0  \n",
       "1122       19.0       1      0     62.0  \n",
       "1346       25.0       1      0     58.0  \n",
       "\n",
       "[1706 rows x 9 columns]"
      ]
     },
     "execution_count": 49,
     "metadata": {},
     "output_type": "execute_result"
    }
   ],
   "source": [
    "X_train"
   ]
  },
  {
   "cell_type": "code",
   "execution_count": 50,
   "id": "db8449fd",
   "metadata": {
    "colab": {
     "base_uri": "https://localhost:8080/"
    },
    "executionInfo": {
     "elapsed": 4,
     "status": "ok",
     "timestamp": 1629944319580,
     "user": {
      "displayName": "todaycode오늘코드",
      "photoUrl": "https://lh3.googleusercontent.com/a-/AOh14GgLiO5i_xXRR_qAG77avSrsWiiI4KHJR6t4xysb=s64",
      "userId": "06313463015165663090"
     },
     "user_tz": -540
    },
    "id": "db8449fd",
    "outputId": "83e353be-2f71-4e8d-9593-d49a759418f1"
   },
   "outputs": [
    {
     "data": {
      "text/plain": [
       "((1706,), (427,))"
      ]
     },
     "execution_count": 50,
     "metadata": {},
     "output_type": "execute_result"
    }
   ],
   "source": [
    "y_train.shape, y_test.shape"
   ]
  },
  {
   "cell_type": "markdown",
   "id": "078bf99c",
   "metadata": {
    "id": "078bf99c"
   },
   "source": [
    "## Linear Regression"
   ]
  },
  {
   "cell_type": "code",
   "execution_count": 51,
   "id": "1d02c313",
   "metadata": {
    "executionInfo": {
     "elapsed": 1324,
     "status": "ok",
     "timestamp": 1629944321592,
     "user": {
      "displayName": "todaycode오늘코드",
      "photoUrl": "https://lh3.googleusercontent.com/a-/AOh14GgLiO5i_xXRR_qAG77avSrsWiiI4KHJR6t4xysb=s64",
      "userId": "06313463015165663090"
     },
     "user_tz": -540
    },
    "id": "1d02c313"
   },
   "outputs": [],
   "source": [
    "model = LinearRegression()"
   ]
  },
  {
   "cell_type": "code",
   "execution_count": 52,
   "id": "9cf028b5",
   "metadata": {
    "executionInfo": {
     "elapsed": 2,
     "status": "ok",
     "timestamp": 1629944321593,
     "user": {
      "displayName": "todaycode오늘코드",
      "photoUrl": "https://lh3.googleusercontent.com/a-/AOh14GgLiO5i_xXRR_qAG77avSrsWiiI4KHJR6t4xysb=s64",
      "userId": "06313463015165663090"
     },
     "user_tz": -540
    },
    "id": "9cf028b5"
   },
   "outputs": [],
   "source": [
    "model.fit(X_train, y_train)\n",
    "y_pred = model.predict(X_test)"
   ]
  },
  {
   "cell_type": "markdown",
   "id": "28f870aa",
   "metadata": {
    "id": "28f870aa"
   },
   "source": [
    "## 정확도"
   ]
  },
  {
   "cell_type": "code",
   "execution_count": 53,
   "id": "a1b93b5f",
   "metadata": {
    "colab": {
     "base_uri": "https://localhost:8080/"
    },
    "executionInfo": {
     "elapsed": 549,
     "status": "ok",
     "timestamp": 1629944324336,
     "user": {
      "displayName": "todaycode오늘코드",
      "photoUrl": "https://lh3.googleusercontent.com/a-/AOh14GgLiO5i_xXRR_qAG77avSrsWiiI4KHJR6t4xysb=s64",
      "userId": "06313463015165663090"
     },
     "user_tz": -540
    },
    "id": "a1b93b5f",
    "outputId": "f678e2b0-54e7-4147-9044-2cb71f577e45"
   },
   "outputs": [
    {
     "name": "stdout",
     "output_type": "stream",
     "text": [
      "Accuracy - LinearRegression: 95.10%\n"
     ]
    }
   ],
   "source": [
    "print('Accuracy - LinearRegression: %.2f%%'%(model.score(X_test,y_test)*100))"
   ]
  },
  {
   "cell_type": "code",
   "execution_count": 54,
   "id": "e2d48896",
   "metadata": {
    "colab": {
     "base_uri": "https://localhost:8080/"
    },
    "executionInfo": {
     "elapsed": 377,
     "status": "ok",
     "timestamp": 1629944327470,
     "user": {
      "displayName": "todaycode오늘코드",
      "photoUrl": "https://lh3.googleusercontent.com/a-/AOh14GgLiO5i_xXRR_qAG77avSrsWiiI4KHJR6t4xysb=s64",
      "userId": "06313463015165663090"
     },
     "user_tz": -540
    },
    "id": "e2d48896",
    "outputId": "fbd9291a-ff76-48e3-a180-8bbf30992deb"
   },
   "outputs": [
    {
     "data": {
      "text/plain": [
       "95.09734101362659"
      ]
     },
     "execution_count": 54,
     "metadata": {},
     "output_type": "execute_result"
    }
   ],
   "source": [
    "model.score(X_test, y_test) * 100"
   ]
  },
  {
   "cell_type": "markdown",
   "id": "0ad8ad5d",
   "metadata": {
    "id": "0ad8ad5d"
   },
   "source": [
    "# machine learning - pretest 없이 posttest 결과 예측"
   ]
  },
  {
   "cell_type": "markdown",
   "id": "ad2f346d",
   "metadata": {
    "id": "ad2f346d"
   },
   "source": [
    "## posttest 총 4단계로 나누기"
   ]
  },
  {
   "cell_type": "markdown",
   "id": "b2ee428b",
   "metadata": {
    "id": "b2ee428b"
   },
   "source": [
    "## LinearRegression"
   ]
  },
  {
   "cell_type": "code",
   "execution_count": 55,
   "id": "R4EA0CAPQ5lx",
   "metadata": {
    "executionInfo": {
     "elapsed": 389,
     "status": "ok",
     "timestamp": 1629945054712,
     "user": {
      "displayName": "todaycode오늘코드",
      "photoUrl": "https://lh3.googleusercontent.com/a-/AOh14GgLiO5i_xXRR_qAG77avSrsWiiI4KHJR6t4xysb=s64",
      "userId": "06313463015165663090"
     },
     "user_tz": -540
    },
    "id": "R4EA0CAPQ5lx"
   },
   "outputs": [],
   "source": [
    "x = clear_df.drop(['posttest', 'pretest'],axis=1)\n",
    "y = clear_df['posttest']"
   ]
  },
  {
   "cell_type": "code",
   "execution_count": 56,
   "id": "st-TIievRDUy",
   "metadata": {
    "colab": {
     "base_uri": "https://localhost:8080/"
    },
    "executionInfo": {
     "elapsed": 3,
     "status": "ok",
     "timestamp": 1629945055220,
     "user": {
      "displayName": "todaycode오늘코드",
      "photoUrl": "https://lh3.googleusercontent.com/a-/AOh14GgLiO5i_xXRR_qAG77avSrsWiiI4KHJR6t4xysb=s64",
      "userId": "06313463015165663090"
     },
     "user_tz": -540
    },
    "id": "st-TIievRDUy",
    "outputId": "4ea6dd69-c017-42f8-967c-33fe28216dae"
   },
   "outputs": [
    {
     "data": {
      "text/plain": [
       "school             23\n",
       "school_setting      3\n",
       "school_type         2\n",
       "classroom          97\n",
       "teaching_method     2\n",
       "n_student          18\n",
       "gender              2\n",
       "lunch               2\n",
       "dtype: int64"
      ]
     },
     "execution_count": 56,
     "metadata": {},
     "output_type": "execute_result"
    }
   ],
   "source": [
    "x.nunique()"
   ]
  },
  {
   "cell_type": "markdown",
   "id": "bs3d2iotR4fs",
   "metadata": {
    "id": "bs3d2iotR4fs"
   },
   "source": []
  },
  {
   "cell_type": "code",
   "execution_count": 57,
   "id": "bPCc6ixvSTO2",
   "metadata": {
    "colab": {
     "base_uri": "https://localhost:8080/",
     "height": 282
    },
    "executionInfo": {
     "elapsed": 586,
     "status": "ok",
     "timestamp": 1629945056868,
     "user": {
      "displayName": "todaycode오늘코드",
      "photoUrl": "https://lh3.googleusercontent.com/a-/AOh14GgLiO5i_xXRR_qAG77avSrsWiiI4KHJR6t4xysb=s64",
      "userId": "06313463015165663090"
     },
     "user_tz": -540
    },
    "id": "bPCc6ixvSTO2",
    "outputId": "206d820b-1797-410d-8c67-c82e1946f49f"
   },
   "outputs": [
    {
     "data": {
      "text/plain": [
       "<AxesSubplot:>"
      ]
     },
     "execution_count": 57,
     "metadata": {},
     "output_type": "execute_result"
    },
    {
     "data": {
      "image/png": "[encoded data removed]",
      "text/plain": [
       "<Figure size 720x576 with 1 Axes>"
      ]
     },
     "metadata": {
      "needs_background": "light"
     },
     "output_type": "display_data"
    }
   ],
   "source": [
    "plt.figure(figsize=(10,8))\n",
    "sns.violinplot(data=x)"
   ]
  },
  {
   "cell_type": "code",
   "execution_count": 58,
   "id": "8skZhvDxSbhH",
   "metadata": {
    "colab": {
     "base_uri": "https://localhost:8080/",
     "height": 408
    },
    "executionInfo": {
     "elapsed": 5,
     "status": "ok",
     "timestamp": 1629945058419,
     "user": {
      "displayName": "todaycode오늘코드",
      "photoUrl": "https://lh3.googleusercontent.com/a-/AOh14GgLiO5i_xXRR_qAG77avSrsWiiI4KHJR6t4xysb=s64",
      "userId": "06313463015165663090"
     },
     "user_tz": -540
    },
    "id": "8skZhvDxSbhH",
    "outputId": "6bc87731-d91d-4620-83ec-5a56212c9814"
   },
   "outputs": [
    {
     "data": {
      "text/html": [
       "<div>\n",
       "<style scoped>\n",
       "    .dataframe tbody tr th:only-of-type {\n",
       "        vertical-align: middle;\n",
       "    }\n",
       "\n",
       "    .dataframe tbody tr th {\n",
       "        vertical-align: top;\n",
       "    }\n",
       "\n",
       "    .dataframe thead th {\n",
       "        text-align: right;\n",
       "    }\n",
       "</style>\n",
       "<table border=\"1\" class=\"dataframe\">\n",
       "  <thead>\n",
       "    <tr style=\"text-align: right;\">\n",
       "      <th></th>\n",
       "      <th>school</th>\n",
       "      <th>school_setting</th>\n",
       "      <th>school_type</th>\n",
       "      <th>classroom</th>\n",
       "      <th>teaching_method</th>\n",
       "      <th>n_student</th>\n",
       "      <th>gender</th>\n",
       "      <th>lunch</th>\n",
       "    </tr>\n",
       "  </thead>\n",
       "  <tbody>\n",
       "    <tr>\n",
       "      <th>0</th>\n",
       "      <td>0</td>\n",
       "      <td>2</td>\n",
       "      <td>0</td>\n",
       "      <td>22</td>\n",
       "      <td>1</td>\n",
       "      <td>20.0</td>\n",
       "      <td>0</td>\n",
       "      <td>0</td>\n",
       "    </tr>\n",
       "    <tr>\n",
       "      <th>1</th>\n",
       "      <td>0</td>\n",
       "      <td>2</td>\n",
       "      <td>0</td>\n",
       "      <td>22</td>\n",
       "      <td>1</td>\n",
       "      <td>20.0</td>\n",
       "      <td>0</td>\n",
       "      <td>0</td>\n",
       "    </tr>\n",
       "    <tr>\n",
       "      <th>2</th>\n",
       "      <td>0</td>\n",
       "      <td>2</td>\n",
       "      <td>0</td>\n",
       "      <td>22</td>\n",
       "      <td>1</td>\n",
       "      <td>20.0</td>\n",
       "      <td>1</td>\n",
       "      <td>0</td>\n",
       "    </tr>\n",
       "    <tr>\n",
       "      <th>3</th>\n",
       "      <td>0</td>\n",
       "      <td>2</td>\n",
       "      <td>0</td>\n",
       "      <td>22</td>\n",
       "      <td>1</td>\n",
       "      <td>20.0</td>\n",
       "      <td>0</td>\n",
       "      <td>0</td>\n",
       "    </tr>\n",
       "    <tr>\n",
       "      <th>4</th>\n",
       "      <td>0</td>\n",
       "      <td>2</td>\n",
       "      <td>0</td>\n",
       "      <td>22</td>\n",
       "      <td>1</td>\n",
       "      <td>20.0</td>\n",
       "      <td>1</td>\n",
       "      <td>0</td>\n",
       "    </tr>\n",
       "    <tr>\n",
       "      <th>...</th>\n",
       "      <td>...</td>\n",
       "      <td>...</td>\n",
       "      <td>...</td>\n",
       "      <td>...</td>\n",
       "      <td>...</td>\n",
       "      <td>...</td>\n",
       "      <td>...</td>\n",
       "      <td>...</td>\n",
       "    </tr>\n",
       "    <tr>\n",
       "      <th>2128</th>\n",
       "      <td>22</td>\n",
       "      <td>2</td>\n",
       "      <td>1</td>\n",
       "      <td>94</td>\n",
       "      <td>1</td>\n",
       "      <td>30.0</td>\n",
       "      <td>0</td>\n",
       "      <td>0</td>\n",
       "    </tr>\n",
       "    <tr>\n",
       "      <th>2129</th>\n",
       "      <td>22</td>\n",
       "      <td>2</td>\n",
       "      <td>1</td>\n",
       "      <td>94</td>\n",
       "      <td>1</td>\n",
       "      <td>30.0</td>\n",
       "      <td>0</td>\n",
       "      <td>1</td>\n",
       "    </tr>\n",
       "    <tr>\n",
       "      <th>2130</th>\n",
       "      <td>22</td>\n",
       "      <td>2</td>\n",
       "      <td>1</td>\n",
       "      <td>94</td>\n",
       "      <td>1</td>\n",
       "      <td>30.0</td>\n",
       "      <td>0</td>\n",
       "      <td>1</td>\n",
       "    </tr>\n",
       "    <tr>\n",
       "      <th>2131</th>\n",
       "      <td>22</td>\n",
       "      <td>2</td>\n",
       "      <td>1</td>\n",
       "      <td>94</td>\n",
       "      <td>1</td>\n",
       "      <td>30.0</td>\n",
       "      <td>1</td>\n",
       "      <td>1</td>\n",
       "    </tr>\n",
       "    <tr>\n",
       "      <th>2132</th>\n",
       "      <td>22</td>\n",
       "      <td>2</td>\n",
       "      <td>1</td>\n",
       "      <td>94</td>\n",
       "      <td>1</td>\n",
       "      <td>30.0</td>\n",
       "      <td>1</td>\n",
       "      <td>1</td>\n",
       "    </tr>\n",
       "  </tbody>\n",
       "</table>\n",
       "<p>2133 rows × 8 columns</p>\n",
       "</div>"
      ],
      "text/plain": [
       "      school  school_setting  school_type  classroom  teaching_method  \\\n",
       "0          0               2            0         22                1   \n",
       "1          0               2            0         22                1   \n",
       "2          0               2            0         22                1   \n",
       "3          0               2            0         22                1   \n",
       "4          0               2            0         22                1   \n",
       "...      ...             ...          ...        ...              ...   \n",
       "2128      22               2            1         94                1   \n",
       "2129      22               2            1         94                1   \n",
       "2130      22               2            1         94                1   \n",
       "2131      22               2            1         94                1   \n",
       "2132      22               2            1         94                1   \n",
       "\n",
       "      n_student  gender  lunch  \n",
       "0          20.0       0      0  \n",
       "1          20.0       0      0  \n",
       "2          20.0       1      0  \n",
       "3          20.0       0      0  \n",
       "4          20.0       1      0  \n",
       "...         ...     ...    ...  \n",
       "2128       30.0       0      0  \n",
       "2129       30.0       0      1  \n",
       "2130       30.0       0      1  \n",
       "2131       30.0       1      1  \n",
       "2132       30.0       1      1  \n",
       "\n",
       "[2133 rows x 8 columns]"
      ]
     },
     "execution_count": 58,
     "metadata": {},
     "output_type": "execute_result"
    }
   ],
   "source": [
    "x"
   ]
  },
  {
   "cell_type": "code",
   "execution_count": 59,
   "id": "rzMB_RunRJ1e",
   "metadata": {
    "executionInfo": {
     "elapsed": 390,
     "status": "ok",
     "timestamp": 1629945060833,
     "user": {
      "displayName": "todaycode오늘코드",
      "photoUrl": "https://lh3.googleusercontent.com/a-/AOh14GgLiO5i_xXRR_qAG77avSrsWiiI4KHJR6t4xysb=s64",
      "userId": "06313463015165663090"
     },
     "user_tz": -540
    },
    "id": "rzMB_RunRJ1e"
   },
   "outputs": [],
   "source": [
    "x_ohe = pd.get_dummies(x.astype(str))"
   ]
  },
  {
   "cell_type": "code",
   "execution_count": 60,
   "id": "PIzhl8NdR44Q",
   "metadata": {
    "colab": {
     "base_uri": "https://localhost:8080/",
     "height": 157
    },
    "executionInfo": {
     "elapsed": 379,
     "status": "ok",
     "timestamp": 1629945098414,
     "user": {
      "displayName": "todaycode오늘코드",
      "photoUrl": "https://lh3.googleusercontent.com/a-/AOh14GgLiO5i_xXRR_qAG77avSrsWiiI4KHJR6t4xysb=s64",
      "userId": "06313463015165663090"
     },
     "user_tz": -540
    },
    "id": "PIzhl8NdR44Q",
    "outputId": "ba72b73b-50a0-4179-9fb5-1dd903d185c9"
   },
   "outputs": [],
   "source": [
    "# x_ohe[\"pretest\"] = clear_df[\"pretest\"]\n",
    "# x_ohe"
   ]
  },
  {
   "cell_type": "code",
   "execution_count": 61,
   "id": "fa88cb61",
   "metadata": {
    "executionInfo": {
     "elapsed": 510,
     "status": "ok",
     "timestamp": 1629945109238,
     "user": {
      "displayName": "todaycode오늘코드",
      "photoUrl": "https://lh3.googleusercontent.com/a-/AOh14GgLiO5i_xXRR_qAG77avSrsWiiI4KHJR6t4xysb=s64",
      "userId": "06313463015165663090"
     },
     "user_tz": -540
    },
    "id": "fa88cb61"
   },
   "outputs": [],
   "source": [
    "# x = clear_df.drop(['posttest', 'pretest'],axis=1)\n",
    "# y = clear_df['posttest']\n",
    "\n",
    "#y = (y - min(y)) / (max(y) - min(y))\n",
    "\n",
    "# X_train, X_test, y_train, y_test = train_test_split(x,y,test_size=0.2, random_state = 123)\n",
    "X_train, X_test, y_train, y_test = train_test_split(x_ohe,y,test_size=0.2, random_state = 123)"
   ]
  },
  {
   "cell_type": "code",
   "execution_count": 62,
   "id": "186614e8",
   "metadata": {},
   "outputs": [
    {
     "data": {
      "text/html": [
       "<div>\n",
       "<style scoped>\n",
       "    .dataframe tbody tr th:only-of-type {\n",
       "        vertical-align: middle;\n",
       "    }\n",
       "\n",
       "    .dataframe tbody tr th {\n",
       "        vertical-align: top;\n",
       "    }\n",
       "\n",
       "    .dataframe thead th {\n",
       "        text-align: right;\n",
       "    }\n",
       "</style>\n",
       "<table border=\"1\" class=\"dataframe\">\n",
       "  <thead>\n",
       "    <tr style=\"text-align: right;\">\n",
       "      <th></th>\n",
       "      <th>school_0</th>\n",
       "      <th>school_1</th>\n",
       "      <th>school_10</th>\n",
       "      <th>school_11</th>\n",
       "      <th>school_12</th>\n",
       "      <th>school_13</th>\n",
       "      <th>school_14</th>\n",
       "      <th>school_15</th>\n",
       "      <th>school_16</th>\n",
       "      <th>school_17</th>\n",
       "      <th>...</th>\n",
       "      <th>n_student_26.0</th>\n",
       "      <th>n_student_27.0</th>\n",
       "      <th>n_student_28.0</th>\n",
       "      <th>n_student_29.0</th>\n",
       "      <th>n_student_30.0</th>\n",
       "      <th>n_student_31.0</th>\n",
       "      <th>gender_0</th>\n",
       "      <th>gender_1</th>\n",
       "      <th>lunch_0</th>\n",
       "      <th>lunch_1</th>\n",
       "    </tr>\n",
       "  </thead>\n",
       "  <tbody>\n",
       "    <tr>\n",
       "      <th>1677</th>\n",
       "      <td>0</td>\n",
       "      <td>0</td>\n",
       "      <td>0</td>\n",
       "      <td>0</td>\n",
       "      <td>0</td>\n",
       "      <td>0</td>\n",
       "      <td>0</td>\n",
       "      <td>0</td>\n",
       "      <td>0</td>\n",
       "      <td>1</td>\n",
       "      <td>...</td>\n",
       "      <td>0</td>\n",
       "      <td>0</td>\n",
       "      <td>0</td>\n",
       "      <td>0</td>\n",
       "      <td>0</td>\n",
       "      <td>0</td>\n",
       "      <td>1</td>\n",
       "      <td>0</td>\n",
       "      <td>1</td>\n",
       "      <td>0</td>\n",
       "    </tr>\n",
       "    <tr>\n",
       "      <th>1075</th>\n",
       "      <td>0</td>\n",
       "      <td>0</td>\n",
       "      <td>0</td>\n",
       "      <td>1</td>\n",
       "      <td>0</td>\n",
       "      <td>0</td>\n",
       "      <td>0</td>\n",
       "      <td>0</td>\n",
       "      <td>0</td>\n",
       "      <td>0</td>\n",
       "      <td>...</td>\n",
       "      <td>0</td>\n",
       "      <td>0</td>\n",
       "      <td>0</td>\n",
       "      <td>0</td>\n",
       "      <td>0</td>\n",
       "      <td>0</td>\n",
       "      <td>0</td>\n",
       "      <td>1</td>\n",
       "      <td>0</td>\n",
       "      <td>1</td>\n",
       "    </tr>\n",
       "    <tr>\n",
       "      <th>1992</th>\n",
       "      <td>0</td>\n",
       "      <td>0</td>\n",
       "      <td>0</td>\n",
       "      <td>0</td>\n",
       "      <td>0</td>\n",
       "      <td>0</td>\n",
       "      <td>0</td>\n",
       "      <td>0</td>\n",
       "      <td>0</td>\n",
       "      <td>0</td>\n",
       "      <td>...</td>\n",
       "      <td>0</td>\n",
       "      <td>0</td>\n",
       "      <td>0</td>\n",
       "      <td>0</td>\n",
       "      <td>0</td>\n",
       "      <td>0</td>\n",
       "      <td>0</td>\n",
       "      <td>1</td>\n",
       "      <td>1</td>\n",
       "      <td>0</td>\n",
       "    </tr>\n",
       "    <tr>\n",
       "      <th>1135</th>\n",
       "      <td>0</td>\n",
       "      <td>0</td>\n",
       "      <td>0</td>\n",
       "      <td>0</td>\n",
       "      <td>1</td>\n",
       "      <td>0</td>\n",
       "      <td>0</td>\n",
       "      <td>0</td>\n",
       "      <td>0</td>\n",
       "      <td>0</td>\n",
       "      <td>...</td>\n",
       "      <td>0</td>\n",
       "      <td>0</td>\n",
       "      <td>0</td>\n",
       "      <td>0</td>\n",
       "      <td>0</td>\n",
       "      <td>0</td>\n",
       "      <td>1</td>\n",
       "      <td>0</td>\n",
       "      <td>1</td>\n",
       "      <td>0</td>\n",
       "    </tr>\n",
       "    <tr>\n",
       "      <th>1828</th>\n",
       "      <td>0</td>\n",
       "      <td>0</td>\n",
       "      <td>0</td>\n",
       "      <td>0</td>\n",
       "      <td>0</td>\n",
       "      <td>0</td>\n",
       "      <td>0</td>\n",
       "      <td>0</td>\n",
       "      <td>0</td>\n",
       "      <td>0</td>\n",
       "      <td>...</td>\n",
       "      <td>0</td>\n",
       "      <td>0</td>\n",
       "      <td>0</td>\n",
       "      <td>0</td>\n",
       "      <td>0</td>\n",
       "      <td>0</td>\n",
       "      <td>1</td>\n",
       "      <td>0</td>\n",
       "      <td>1</td>\n",
       "      <td>0</td>\n",
       "    </tr>\n",
       "    <tr>\n",
       "      <th>...</th>\n",
       "      <td>...</td>\n",
       "      <td>...</td>\n",
       "      <td>...</td>\n",
       "      <td>...</td>\n",
       "      <td>...</td>\n",
       "      <td>...</td>\n",
       "      <td>...</td>\n",
       "      <td>...</td>\n",
       "      <td>...</td>\n",
       "      <td>...</td>\n",
       "      <td>...</td>\n",
       "      <td>...</td>\n",
       "      <td>...</td>\n",
       "      <td>...</td>\n",
       "      <td>...</td>\n",
       "      <td>...</td>\n",
       "      <td>...</td>\n",
       "      <td>...</td>\n",
       "      <td>...</td>\n",
       "      <td>...</td>\n",
       "      <td>...</td>\n",
       "    </tr>\n",
       "    <tr>\n",
       "      <th>277</th>\n",
       "      <td>0</td>\n",
       "      <td>0</td>\n",
       "      <td>0</td>\n",
       "      <td>0</td>\n",
       "      <td>0</td>\n",
       "      <td>0</td>\n",
       "      <td>0</td>\n",
       "      <td>0</td>\n",
       "      <td>0</td>\n",
       "      <td>0</td>\n",
       "      <td>...</td>\n",
       "      <td>0</td>\n",
       "      <td>1</td>\n",
       "      <td>0</td>\n",
       "      <td>0</td>\n",
       "      <td>0</td>\n",
       "      <td>0</td>\n",
       "      <td>0</td>\n",
       "      <td>1</td>\n",
       "      <td>1</td>\n",
       "      <td>0</td>\n",
       "    </tr>\n",
       "    <tr>\n",
       "      <th>372</th>\n",
       "      <td>0</td>\n",
       "      <td>0</td>\n",
       "      <td>0</td>\n",
       "      <td>0</td>\n",
       "      <td>0</td>\n",
       "      <td>0</td>\n",
       "      <td>0</td>\n",
       "      <td>0</td>\n",
       "      <td>0</td>\n",
       "      <td>0</td>\n",
       "      <td>...</td>\n",
       "      <td>0</td>\n",
       "      <td>0</td>\n",
       "      <td>0</td>\n",
       "      <td>0</td>\n",
       "      <td>0</td>\n",
       "      <td>0</td>\n",
       "      <td>0</td>\n",
       "      <td>1</td>\n",
       "      <td>0</td>\n",
       "      <td>1</td>\n",
       "    </tr>\n",
       "    <tr>\n",
       "      <th>112</th>\n",
       "      <td>0</td>\n",
       "      <td>1</td>\n",
       "      <td>0</td>\n",
       "      <td>0</td>\n",
       "      <td>0</td>\n",
       "      <td>0</td>\n",
       "      <td>0</td>\n",
       "      <td>0</td>\n",
       "      <td>0</td>\n",
       "      <td>0</td>\n",
       "      <td>...</td>\n",
       "      <td>0</td>\n",
       "      <td>0</td>\n",
       "      <td>0</td>\n",
       "      <td>0</td>\n",
       "      <td>0</td>\n",
       "      <td>0</td>\n",
       "      <td>0</td>\n",
       "      <td>1</td>\n",
       "      <td>1</td>\n",
       "      <td>0</td>\n",
       "    </tr>\n",
       "    <tr>\n",
       "      <th>478</th>\n",
       "      <td>0</td>\n",
       "      <td>0</td>\n",
       "      <td>0</td>\n",
       "      <td>0</td>\n",
       "      <td>0</td>\n",
       "      <td>0</td>\n",
       "      <td>0</td>\n",
       "      <td>0</td>\n",
       "      <td>0</td>\n",
       "      <td>0</td>\n",
       "      <td>...</td>\n",
       "      <td>0</td>\n",
       "      <td>0</td>\n",
       "      <td>0</td>\n",
       "      <td>0</td>\n",
       "      <td>0</td>\n",
       "      <td>0</td>\n",
       "      <td>0</td>\n",
       "      <td>1</td>\n",
       "      <td>1</td>\n",
       "      <td>0</td>\n",
       "    </tr>\n",
       "    <tr>\n",
       "      <th>1260</th>\n",
       "      <td>0</td>\n",
       "      <td>0</td>\n",
       "      <td>0</td>\n",
       "      <td>0</td>\n",
       "      <td>0</td>\n",
       "      <td>0</td>\n",
       "      <td>1</td>\n",
       "      <td>0</td>\n",
       "      <td>0</td>\n",
       "      <td>0</td>\n",
       "      <td>...</td>\n",
       "      <td>0</td>\n",
       "      <td>0</td>\n",
       "      <td>1</td>\n",
       "      <td>0</td>\n",
       "      <td>0</td>\n",
       "      <td>0</td>\n",
       "      <td>0</td>\n",
       "      <td>1</td>\n",
       "      <td>1</td>\n",
       "      <td>0</td>\n",
       "    </tr>\n",
       "  </tbody>\n",
       "</table>\n",
       "<p>427 rows × 149 columns</p>\n",
       "</div>"
      ],
      "text/plain": [
       "      school_0  school_1  school_10  school_11  school_12  school_13  \\\n",
       "1677         0         0          0          0          0          0   \n",
       "1075         0         0          0          1          0          0   \n",
       "1992         0         0          0          0          0          0   \n",
       "1135         0         0          0          0          1          0   \n",
       "1828         0         0          0          0          0          0   \n",
       "...        ...       ...        ...        ...        ...        ...   \n",
       "277          0         0          0          0          0          0   \n",
       "372          0         0          0          0          0          0   \n",
       "112          0         1          0          0          0          0   \n",
       "478          0         0          0          0          0          0   \n",
       "1260         0         0          0          0          0          0   \n",
       "\n",
       "      school_14  school_15  school_16  school_17  ...  n_student_26.0  \\\n",
       "1677          0          0          0          1  ...               0   \n",
       "1075          0          0          0          0  ...               0   \n",
       "1992          0          0          0          0  ...               0   \n",
       "1135          0          0          0          0  ...               0   \n",
       "1828          0          0          0          0  ...               0   \n",
       "...         ...        ...        ...        ...  ...             ...   \n",
       "277           0          0          0          0  ...               0   \n",
       "372           0          0          0          0  ...               0   \n",
       "112           0          0          0          0  ...               0   \n",
       "478           0          0          0          0  ...               0   \n",
       "1260          1          0          0          0  ...               0   \n",
       "\n",
       "      n_student_27.0  n_student_28.0  n_student_29.0  n_student_30.0  \\\n",
       "1677               0               0               0               0   \n",
       "1075               0               0               0               0   \n",
       "1992               0               0               0               0   \n",
       "1135               0               0               0               0   \n",
       "1828               0               0               0               0   \n",
       "...              ...             ...             ...             ...   \n",
       "277                1               0               0               0   \n",
       "372                0               0               0               0   \n",
       "112                0               0               0               0   \n",
       "478                0               0               0               0   \n",
       "1260               0               1               0               0   \n",
       "\n",
       "      n_student_31.0  gender_0  gender_1  lunch_0  lunch_1  \n",
       "1677               0         1         0        1        0  \n",
       "1075               0         0         1        0        1  \n",
       "1992               0         0         1        1        0  \n",
       "1135               0         1         0        1        0  \n",
       "1828               0         1         0        1        0  \n",
       "...              ...       ...       ...      ...      ...  \n",
       "277                0         0         1        1        0  \n",
       "372                0         0         1        0        1  \n",
       "112                0         0         1        1        0  \n",
       "478                0         0         1        1        0  \n",
       "1260               0         0         1        1        0  \n",
       "\n",
       "[427 rows x 149 columns]"
      ]
     },
     "execution_count": 62,
     "metadata": {},
     "output_type": "execute_result"
    }
   ],
   "source": [
    "X_test"
   ]
  },
  {
   "cell_type": "code",
   "execution_count": 63,
   "id": "d264dd53",
   "metadata": {
    "colab": {
     "base_uri": "https://localhost:8080/"
    },
    "executionInfo": {
     "elapsed": 2,
     "status": "ok",
     "timestamp": 1629945109717,
     "user": {
      "displayName": "todaycode오늘코드",
      "photoUrl": "https://lh3.googleusercontent.com/a-/AOh14GgLiO5i_xXRR_qAG77avSrsWiiI4KHJR6t4xysb=s64",
      "userId": "06313463015165663090"
     },
     "user_tz": -540
    },
    "id": "d264dd53",
    "outputId": "887eb6c7-f459-4f92-87f5-a2d402ffcb62"
   },
   "outputs": [
    {
     "data": {
      "text/plain": [
       "822     64.0\n",
       "1453    77.0\n",
       "1894    49.0\n",
       "226     70.0\n",
       "308     75.0\n",
       "        ... \n",
       "1593    87.0\n",
       "1147    79.0\n",
       "1766    74.0\n",
       "1122    70.0\n",
       "1346    78.0\n",
       "Name: posttest, Length: 1706, dtype: float64"
      ]
     },
     "execution_count": 63,
     "metadata": {},
     "output_type": "execute_result"
    }
   ],
   "source": [
    "y_train"
   ]
  },
  {
   "cell_type": "code",
   "execution_count": 64,
   "id": "56d5e7c6",
   "metadata": {
    "colab": {
     "base_uri": "https://localhost:8080/"
    },
    "executionInfo": {
     "elapsed": 6,
     "status": "ok",
     "timestamp": 1629945110536,
     "user": {
      "displayName": "todaycode오늘코드",
      "photoUrl": "https://lh3.googleusercontent.com/a-/AOh14GgLiO5i_xXRR_qAG77avSrsWiiI4KHJR6t4xysb=s64",
      "userId": "06313463015165663090"
     },
     "user_tz": -540
    },
    "id": "56d5e7c6",
    "outputId": "2ce4579c-8bf3-41cc-83df-cc9770fe7fd3"
   },
   "outputs": [
    {
     "data": {
      "text/plain": [
       "['school_0',\n",
       " 'school_1',\n",
       " 'school_10',\n",
       " 'school_11',\n",
       " 'school_12',\n",
       " 'school_13',\n",
       " 'school_14',\n",
       " 'school_15',\n",
       " 'school_16',\n",
       " 'school_17',\n",
       " 'school_18',\n",
       " 'school_19',\n",
       " 'school_2',\n",
       " 'school_20',\n",
       " 'school_21',\n",
       " 'school_22',\n",
       " 'school_3',\n",
       " 'school_4',\n",
       " 'school_5',\n",
       " 'school_6',\n",
       " 'school_7',\n",
       " 'school_8',\n",
       " 'school_9',\n",
       " 'school_setting_0',\n",
       " 'school_setting_1',\n",
       " 'school_setting_2',\n",
       " 'school_type_0',\n",
       " 'school_type_1',\n",
       " 'classroom_0',\n",
       " 'classroom_1',\n",
       " 'classroom_10',\n",
       " 'classroom_11',\n",
       " 'classroom_12',\n",
       " 'classroom_13',\n",
       " 'classroom_14',\n",
       " 'classroom_15',\n",
       " 'classroom_16',\n",
       " 'classroom_17',\n",
       " 'classroom_18',\n",
       " 'classroom_19',\n",
       " 'classroom_2',\n",
       " 'classroom_20',\n",
       " 'classroom_21',\n",
       " 'classroom_22',\n",
       " 'classroom_23',\n",
       " 'classroom_24',\n",
       " 'classroom_25',\n",
       " 'classroom_26',\n",
       " 'classroom_27',\n",
       " 'classroom_28',\n",
       " 'classroom_29',\n",
       " 'classroom_3',\n",
       " 'classroom_30',\n",
       " 'classroom_31',\n",
       " 'classroom_32',\n",
       " 'classroom_33',\n",
       " 'classroom_34',\n",
       " 'classroom_35',\n",
       " 'classroom_36',\n",
       " 'classroom_37',\n",
       " 'classroom_38',\n",
       " 'classroom_39',\n",
       " 'classroom_4',\n",
       " 'classroom_40',\n",
       " 'classroom_41',\n",
       " 'classroom_42',\n",
       " 'classroom_43',\n",
       " 'classroom_44',\n",
       " 'classroom_45',\n",
       " 'classroom_46',\n",
       " 'classroom_47',\n",
       " 'classroom_48',\n",
       " 'classroom_49',\n",
       " 'classroom_5',\n",
       " 'classroom_50',\n",
       " 'classroom_51',\n",
       " 'classroom_52',\n",
       " 'classroom_53',\n",
       " 'classroom_54',\n",
       " 'classroom_55',\n",
       " 'classroom_56',\n",
       " 'classroom_57',\n",
       " 'classroom_58',\n",
       " 'classroom_59',\n",
       " 'classroom_6',\n",
       " 'classroom_60',\n",
       " 'classroom_61',\n",
       " 'classroom_62',\n",
       " 'classroom_63',\n",
       " 'classroom_64',\n",
       " 'classroom_65',\n",
       " 'classroom_66',\n",
       " 'classroom_67',\n",
       " 'classroom_68',\n",
       " 'classroom_69',\n",
       " 'classroom_7',\n",
       " 'classroom_70',\n",
       " 'classroom_71',\n",
       " 'classroom_72',\n",
       " 'classroom_73',\n",
       " 'classroom_74',\n",
       " 'classroom_75',\n",
       " 'classroom_76',\n",
       " 'classroom_77',\n",
       " 'classroom_78',\n",
       " 'classroom_79',\n",
       " 'classroom_8',\n",
       " 'classroom_80',\n",
       " 'classroom_81',\n",
       " 'classroom_82',\n",
       " 'classroom_83',\n",
       " 'classroom_84',\n",
       " 'classroom_85',\n",
       " 'classroom_86',\n",
       " 'classroom_87',\n",
       " 'classroom_88',\n",
       " 'classroom_89',\n",
       " 'classroom_9',\n",
       " 'classroom_90',\n",
       " 'classroom_91',\n",
       " 'classroom_92',\n",
       " 'classroom_93',\n",
       " 'classroom_94',\n",
       " 'classroom_95',\n",
       " 'classroom_96',\n",
       " 'teaching_method_0',\n",
       " 'teaching_method_1',\n",
       " 'n_student_14.0',\n",
       " 'n_student_15.0',\n",
       " 'n_student_16.0',\n",
       " 'n_student_17.0',\n",
       " 'n_student_18.0',\n",
       " 'n_student_19.0',\n",
       " 'n_student_20.0',\n",
       " 'n_student_21.0',\n",
       " 'n_student_22.0',\n",
       " 'n_student_23.0',\n",
       " 'n_student_24.0',\n",
       " 'n_student_25.0',\n",
       " 'n_student_26.0',\n",
       " 'n_student_27.0',\n",
       " 'n_student_28.0',\n",
       " 'n_student_29.0',\n",
       " 'n_student_30.0',\n",
       " 'n_student_31.0',\n",
       " 'gender_0',\n",
       " 'gender_1',\n",
       " 'lunch_0',\n",
       " 'lunch_1']"
      ]
     },
     "execution_count": 64,
     "metadata": {},
     "output_type": "execute_result"
    }
   ],
   "source": [
    "feature_names = x_ohe.columns.tolist()\n",
    "feature_names"
   ]
  },
  {
   "cell_type": "code",
   "execution_count": 65,
   "id": "6238e70f",
   "metadata": {
    "executionInfo": {
     "elapsed": 436,
     "status": "ok",
     "timestamp": 1629945684211,
     "user": {
      "displayName": "todaycode오늘코드",
      "photoUrl": "https://lh3.googleusercontent.com/a-/AOh14GgLiO5i_xXRR_qAG77avSrsWiiI4KHJR6t4xysb=s64",
      "userId": "06313463015165663090"
     },
     "user_tz": -540
    },
    "id": "6238e70f"
   },
   "outputs": [],
   "source": [
    "model = LinearRegression()"
   ]
  },
  {
   "cell_type": "code",
   "execution_count": 66,
   "id": "7dadd4dc",
   "metadata": {
    "executionInfo": {
     "elapsed": 3,
     "status": "ok",
     "timestamp": 1629945684755,
     "user": {
      "displayName": "todaycode오늘코드",
      "photoUrl": "https://lh3.googleusercontent.com/a-/AOh14GgLiO5i_xXRR_qAG77avSrsWiiI4KHJR6t4xysb=s64",
      "userId": "06313463015165663090"
     },
     "user_tz": -540
    },
    "id": "7dadd4dc"
   },
   "outputs": [],
   "source": [
    "model.fit(X_train, y_train)\n",
    "y_pred = model.predict(X_test)"
   ]
  },
  {
   "cell_type": "code",
   "execution_count": 63,
   "id": "661d4372",
   "metadata": {
    "colab": {
     "base_uri": "https://localhost:8080/"
    },
    "executionInfo": {
     "elapsed": 3,
     "status": "ok",
     "timestamp": 1629945686201,
     "user": {
      "displayName": "todaycode오늘코드",
      "photoUrl": "https://lh3.googleusercontent.com/a-/AOh14GgLiO5i_xXRR_qAG77avSrsWiiI4KHJR6t4xysb=s64",
      "userId": "06313463015165663090"
     },
     "user_tz": -540
    },
    "id": "661d4372",
    "outputId": "47169ac6-3c46-4030-ddb6-58b202dbb535"
   },
   "outputs": [
    {
     "data": {
      "text/plain": [
       "95.20961025807117"
      ]
     },
     "execution_count": 63,
     "metadata": {},
     "output_type": "execute_result"
    }
   ],
   "source": [
    "model.score(X_test, y_test) * 100"
   ]
  },
  {
   "cell_type": "code",
   "execution_count": 67,
   "id": "c8897333",
   "metadata": {},
   "outputs": [
    {
     "name": "stderr",
     "output_type": "stream",
     "text": [
      "WARNING:root:scikit-learn version 0.24.1 is not supported. Minimum required version: 0.17. Maximum required version: 0.19.2. Disabling scikit-learn conversion API.\n"
     ]
    }
   ],
   "source": [
    "import coremltools"
   ]
  },
  {
   "cell_type": "code",
   "execution_count": 68,
   "id": "98ceca9f",
   "metadata": {},
   "outputs": [
    {
     "ename": "NameError",
     "evalue": "name '_tree' is not defined",
     "output_type": "error",
     "traceback": [
      "\u001b[0;31m---------------------------------------------------------------------------\u001b[0m",
      "\u001b[0;31mNameError\u001b[0m                                 Traceback (most recent call last)",
      "\u001b[0;32m<ipython-input-68-aeecdda51a8d>\u001b[0m in \u001b[0;36m<module>\u001b[0;34m\u001b[0m\n\u001b[0;32m----> 1\u001b[0;31m \u001b[0mcore_ml_model\u001b[0m \u001b[0;34m=\u001b[0m \u001b[0mcoremltools\u001b[0m\u001b[0;34m.\u001b[0m\u001b[0mconverters\u001b[0m\u001b[0;34m.\u001b[0m\u001b[0msklearn\u001b[0m\u001b[0;34m.\u001b[0m\u001b[0mconvert\u001b[0m\u001b[0;34m(\u001b[0m\u001b[0mmodel\u001b[0m\u001b[0;34m)\u001b[0m\u001b[0;34m\u001b[0m\u001b[0;34m\u001b[0m\u001b[0m\n\u001b[0m",
      "\u001b[0;32m/opt/anaconda3/lib/python3.8/site-packages/coremltools/converters/sklearn/_converter.py\u001b[0m in \u001b[0;36mconvert\u001b[0;34m(sk_obj, input_features, output_feature_names)\u001b[0m\n\u001b[1;32m    146\u001b[0m     \u001b[0;31m# several issues with the ordering of the classes are worked out.  For now,\u001b[0m\u001b[0;34m\u001b[0m\u001b[0;34m\u001b[0m\u001b[0;34m\u001b[0m\u001b[0m\n\u001b[1;32m    147\u001b[0m     \u001b[0;31m# to use custom class labels, directly import the internal function below.\u001b[0m\u001b[0;34m\u001b[0m\u001b[0;34m\u001b[0m\u001b[0;34m\u001b[0m\u001b[0m\n\u001b[0;32m--> 148\u001b[0;31m     \u001b[0;32mfrom\u001b[0m \u001b[0;34m.\u001b[0m\u001b[0m_converter_internal\u001b[0m \u001b[0;32mimport\u001b[0m \u001b[0m_convert_sklearn_model\u001b[0m\u001b[0;34m\u001b[0m\u001b[0;34m\u001b[0m\u001b[0m\n\u001b[0m\u001b[1;32m    149\u001b[0m \u001b[0;34m\u001b[0m\u001b[0m\n\u001b[1;32m    150\u001b[0m     spec = _convert_sklearn_model(\n",
      "\u001b[0;32m/opt/anaconda3/lib/python3.8/site-packages/coremltools/converters/sklearn/_converter_internal.py\u001b[0m in \u001b[0;36m<module>\u001b[0;34m\u001b[0m\n\u001b[1;32m     33\u001b[0m \u001b[0;32mfrom\u001b[0m \u001b[0;34m.\u001b[0m \u001b[0;32mimport\u001b[0m \u001b[0m_LinearSVR\u001b[0m\u001b[0;34m\u001b[0m\u001b[0;34m\u001b[0m\u001b[0m\n\u001b[1;32m     34\u001b[0m \u001b[0;32mfrom\u001b[0m \u001b[0;34m.\u001b[0m \u001b[0;32mimport\u001b[0m \u001b[0m_linear_regression\u001b[0m\u001b[0;34m\u001b[0m\u001b[0;34m\u001b[0m\u001b[0m\n\u001b[0;32m---> 35\u001b[0;31m \u001b[0;32mfrom\u001b[0m \u001b[0;34m.\u001b[0m \u001b[0;32mimport\u001b[0m \u001b[0m_decision_tree_classifier\u001b[0m\u001b[0;34m\u001b[0m\u001b[0;34m\u001b[0m\u001b[0m\n\u001b[0m\u001b[1;32m     36\u001b[0m \u001b[0;32mfrom\u001b[0m \u001b[0;34m.\u001b[0m \u001b[0;32mimport\u001b[0m \u001b[0m_decision_tree_regressor\u001b[0m\u001b[0;34m\u001b[0m\u001b[0;34m\u001b[0m\u001b[0m\n\u001b[1;32m     37\u001b[0m \u001b[0;32mfrom\u001b[0m \u001b[0;34m.\u001b[0m \u001b[0;32mimport\u001b[0m \u001b[0m_gradient_boosting_classifier\u001b[0m\u001b[0;34m\u001b[0m\u001b[0;34m\u001b[0m\u001b[0m\n",
      "\u001b[0;32m/opt/anaconda3/lib/python3.8/site-packages/coremltools/converters/sklearn/_decision_tree_classifier.py\u001b[0m in \u001b[0;36m<module>\u001b[0;34m\u001b[0m\n\u001b[1;32m     14\u001b[0m \u001b[0;34m\u001b[0m\u001b[0m\n\u001b[1;32m     15\u001b[0m \u001b[0mmodel_type\u001b[0m \u001b[0;34m=\u001b[0m \u001b[0;34m\"classifier\"\u001b[0m\u001b[0;34m\u001b[0m\u001b[0;34m\u001b[0m\u001b[0m\n\u001b[0;32m---> 16\u001b[0;31m \u001b[0msklearn_class\u001b[0m \u001b[0;34m=\u001b[0m \u001b[0m_tree\u001b[0m\u001b[0;34m.\u001b[0m\u001b[0mDecisionTreeClassifier\u001b[0m\u001b[0;34m\u001b[0m\u001b[0;34m\u001b[0m\u001b[0m\n\u001b[0m\u001b[1;32m     17\u001b[0m \u001b[0;34m\u001b[0m\u001b[0m\n\u001b[1;32m     18\u001b[0m \u001b[0;34m\u001b[0m\u001b[0m\n",
      "\u001b[0;31mNameError\u001b[0m: name '_tree' is not defined"
     ]
    }
   ],
   "source": [
    "core_ml_model = coremltools.converters.sklearn.convert(model)"
   ]
  },
  {
   "cell_type": "code",
   "execution_count": 64,
   "id": "0df0d913",
   "metadata": {
    "colab": {
     "base_uri": "https://localhost:8080/",
     "height": 296
    },
    "executionInfo": {
     "elapsed": 651,
     "status": "ok",
     "timestamp": 1629944826907,
     "user": {
      "displayName": "todaycode오늘코드",
      "photoUrl": "https://lh3.googleusercontent.com/a-/AOh14GgLiO5i_xXRR_qAG77avSrsWiiI4KHJR6t4xysb=s64",
      "userId": "06313463015165663090"
     },
     "user_tz": -540
    },
    "id": "0df0d913",
    "outputId": "bab78fc8-0c42-4cf0-a676-04326e3f3b63"
   },
   "outputs": [
    {
     "data": {
      "text/plain": [
       "<function matplotlib.pyplot.show(close=None, block=None)>"
      ]
     },
     "execution_count": 64,
     "metadata": {},
     "output_type": "execute_result"
    },
    {
     "data": {
      "image/png": "[encoded data removed]",
      "text/plain": [
       "<Figure size 432x288 with 1 Axes>"
      ]
     },
     "metadata": {
      "needs_background": "light"
     },
     "output_type": "display_data"
    }
   ],
   "source": [
    "plt.scatter(y_test, y_pred, alpha=0.5)\n",
    "plt.xlabel(\"y_test\")\n",
    "plt.ylabel(\"y_pred\")\n",
    "plt.show"
   ]
  },
  {
   "cell_type": "code",
   "execution_count": 65,
   "id": "1b0ca8b4",
   "metadata": {
    "colab": {
     "base_uri": "https://localhost:8080/",
     "height": 408
    },
    "executionInfo": {
     "elapsed": 545,
     "status": "ok",
     "timestamp": 1629944830901,
     "user": {
      "displayName": "todaycode오늘코드",
      "photoUrl": "https://lh3.googleusercontent.com/a-/AOh14GgLiO5i_xXRR_qAG77avSrsWiiI4KHJR6t4xysb=s64",
      "userId": "06313463015165663090"
     },
     "user_tz": -540
    },
    "id": "1b0ca8b4",
    "outputId": "88d52087-e88a-4af0-e184-76694510e436"
   },
   "outputs": [
    {
     "data": {
      "text/html": [
       "<div>\n",
       "<style scoped>\n",
       "    .dataframe tbody tr th:only-of-type {\n",
       "        vertical-align: middle;\n",
       "    }\n",
       "\n",
       "    .dataframe tbody tr th {\n",
       "        vertical-align: top;\n",
       "    }\n",
       "\n",
       "    .dataframe thead th {\n",
       "        text-align: right;\n",
       "    }\n",
       "</style>\n",
       "<table border=\"1\" class=\"dataframe\">\n",
       "  <thead>\n",
       "    <tr style=\"text-align: right;\">\n",
       "      <th></th>\n",
       "      <th>test</th>\n",
       "      <th>pred</th>\n",
       "    </tr>\n",
       "  </thead>\n",
       "  <tbody>\n",
       "    <tr>\n",
       "      <th>1677</th>\n",
       "      <td>78.0</td>\n",
       "      <td>77.546875</td>\n",
       "    </tr>\n",
       "    <tr>\n",
       "      <th>1075</th>\n",
       "      <td>51.0</td>\n",
       "      <td>43.203125</td>\n",
       "    </tr>\n",
       "    <tr>\n",
       "      <th>1992</th>\n",
       "      <td>76.0</td>\n",
       "      <td>73.156250</td>\n",
       "    </tr>\n",
       "    <tr>\n",
       "      <th>1135</th>\n",
       "      <td>70.0</td>\n",
       "      <td>70.625000</td>\n",
       "    </tr>\n",
       "    <tr>\n",
       "      <th>1828</th>\n",
       "      <td>60.0</td>\n",
       "      <td>59.031250</td>\n",
       "    </tr>\n",
       "    <tr>\n",
       "      <th>...</th>\n",
       "      <td>...</td>\n",
       "      <td>...</td>\n",
       "    </tr>\n",
       "    <tr>\n",
       "      <th>277</th>\n",
       "      <td>65.0</td>\n",
       "      <td>60.828125</td>\n",
       "    </tr>\n",
       "    <tr>\n",
       "      <th>372</th>\n",
       "      <td>57.0</td>\n",
       "      <td>57.781250</td>\n",
       "    </tr>\n",
       "    <tr>\n",
       "      <th>112</th>\n",
       "      <td>85.0</td>\n",
       "      <td>82.468750</td>\n",
       "    </tr>\n",
       "    <tr>\n",
       "      <th>478</th>\n",
       "      <td>81.0</td>\n",
       "      <td>82.984375</td>\n",
       "    </tr>\n",
       "    <tr>\n",
       "      <th>1260</th>\n",
       "      <td>59.0</td>\n",
       "      <td>61.125000</td>\n",
       "    </tr>\n",
       "  </tbody>\n",
       "</table>\n",
       "<p>427 rows × 2 columns</p>\n",
       "</div>"
      ],
      "text/plain": [
       "      test       pred\n",
       "1677  78.0  77.546875\n",
       "1075  51.0  43.203125\n",
       "1992  76.0  73.156250\n",
       "1135  70.0  70.625000\n",
       "1828  60.0  59.031250\n",
       "...    ...        ...\n",
       "277   65.0  60.828125\n",
       "372   57.0  57.781250\n",
       "112   85.0  82.468750\n",
       "478   81.0  82.984375\n",
       "1260  59.0  61.125000\n",
       "\n",
       "[427 rows x 2 columns]"
      ]
     },
     "execution_count": 65,
     "metadata": {},
     "output_type": "execute_result"
    }
   ],
   "source": [
    "test_pred = pd.DataFrame()\n",
    "test_pred[\"test\"] = y_test\n",
    "test_pred[\"pred\"] = y_pred\n",
    "test_pred"
   ]
  },
  {
   "cell_type": "code",
   "execution_count": null,
   "id": "17eefba1",
   "metadata": {
    "colab": {
     "base_uri": "https://localhost:8080/",
     "height": 398
    },
    "executionInfo": {
     "elapsed": 674,
     "status": "ok",
     "timestamp": 1629944839152,
     "user": {
      "displayName": "todaycode오늘코드",
      "photoUrl": "https://lh3.googleusercontent.com/a-/AOh14GgLiO5i_xXRR_qAG77avSrsWiiI4KHJR6t4xysb=s64",
      "userId": "06313463015165663090"
     },
     "user_tz": -540
    },
    "id": "17eefba1",
    "outputId": "994aa83e-8295-49d4-bcf8-9e0bf1aafcb8"
   },
   "outputs": [],
   "source": [
    "sns.lmplot(data=test_pred, x=\"test\", y=\"pred\")"
   ]
  },
  {
   "cell_type": "code",
   "execution_count": 67,
   "id": "29e8f2de",
   "metadata": {},
   "outputs": [
    {
     "data": {
      "text/plain": [
       "array([77.546875, 43.203125, 73.15625 , 70.625   , 59.03125 , 49.453125,\n",
       "       60.5625  , 74.265625, 68.21875 , 94.078125, 75.953125, 92.203125,\n",
       "       50.078125, 68.5     , 76.984375, 93.578125, 60.25    , 58.328125,\n",
       "       54.609375, 86.046875, 72.796875, 67.171875, 57.828125, 76.171875,\n",
       "       56.234375, 50.078125, 61.125   , 58.296875, 67.5     , 76.015625,\n",
       "       73.15625 , 47.46875 , 82.578125, 78.4375  , 46.96875 , 53.109375,\n",
       "       69.171875, 83.078125, 68.453125, 75.703125, 78.015625, 70.84375 ,\n",
       "       89.96875 , 58.6875  , 49.703125, 67.71875 , 81.140625, 70.015625,\n",
       "       60.234375, 68.640625, 60.234375, 62.21875 , 62.21875 , 52.671875,\n",
       "       66.8125  , 68.921875, 50.5625  , 75.140625, 41.734375, 56.234375,\n",
       "       82.984375, 93.578125, 70.125   , 57.234375, 78.015625, 65.46875 ,\n",
       "       70.34375 , 46.96875 , 63.90625 , 60.25    , 57.609375, 91.03125 ,\n",
       "       57.796875, 65.953125, 71.84375 , 68.40625 , 80.140625, 67.3125  ,\n",
       "       68.421875, 59.203125, 65.171875, 76.515625, 50.5625  , 69.171875,\n",
       "       51.65625 , 53.78125 , 69.734375, 58.515625, 49.171875, 63.40625 ,\n",
       "       58.296875, 58.828125, 67.671875, 83.234375, 48.828125, 75.140625,\n",
       "       75.953125, 76.921875, 54.609375, 77.65625 , 73.765625, 44.609375,\n",
       "       47.46875 , 43.703125, 72.296875, 51.109375, 91.546875, 93.578125,\n",
       "       42.390625, 59.203125, 59.65625 , 69.171875, 49.453125, 51.109375,\n",
       "       75.140625, 50.625   , 46.96875 , 49.703125, 75.203125, 90.1875  ,\n",
       "       76.921875, 63.796875, 93.578125, 56.640625, 70.015625, 77.125   ,\n",
       "       80.984375, 94.078125, 60.828125, 56.234375, 82.46875 , 62.21875 ,\n",
       "       68.921875, 69.671875, 63.90625 , 76.015625, 67.71875 , 93.84375 ,\n",
       "       88.296875, 77.421875, 68.21875 , 41.734375, 97.859375, 93.359375,\n",
       "       60.734375, 56.234375, 74.421875, 69.671875, 78.4375  , 67.3125  ,\n",
       "       56.015625, 48.828125, 63.40625 , 44.609375, 76.875   , 56.4375  ,\n",
       "       71.890625, 41.734375, 68.421875, 52.671875, 60.828125, 63.90625 ,\n",
       "       73.15625 , 90.1875  , 73.09375 , 73.15625 , 54.609375, 60.25    ,\n",
       "       67.71875 , 57.828125, 90.6875  , 77.046875, 66.78125 , 97.859375,\n",
       "       83.234375, 67.71875 , 91.03125 , 77.65625 , 74.640625, 65.953125,\n",
       "       74.40625 , 67.5     , 56.234375, 73.09375 , 50.046875, 41.234375,\n",
       "       58.828125, 73.765625, 83.234375, 97.859375, 70.953125, 67.96875 ,\n",
       "       58.515625, 52.625   , 69.9375  , 63.90625 , 77.546875, 66.8125  ,\n",
       "       41.234375, 54.375   , 55.515625, 98.359375, 41.234375, 68.921875,\n",
       "       82.984375, 79.109375, 74.265625, 68.640625, 48.671875, 56.4375  ,\n",
       "       93.578125, 90.1875  , 58.015625, 60.828125, 71.890625, 50.5625  ,\n",
       "       77.546875, 65.921875, 42.890625, 68.921875, 42.890625, 61.125   ,\n",
       "       92.703125, 80.40625 , 67.3125  , 43.203125, 56.140625, 59.203125,\n",
       "       79.921875, 68.921875, 77.65625 , 60.734375, 75.703125, 77.265625,\n",
       "       78.4375  , 79.109375, 76.015625, 67.671875, 41.234375, 78.40625 ,\n",
       "       53.046875, 44.109375, 43.203125, 69.296875, 67.96875 , 77.203125,\n",
       "       70.625   , 63.90625 , 69.109375, 78.015625, 46.109375, 48.828125,\n",
       "       62.234375, 70.5     , 70.125   , 72.328125, 47.921875, 71.84375 ,\n",
       "       66.421875, 56.234375, 77.65625 , 83.859375, 83.859375, 54.609375,\n",
       "       77.484375, 76.921875, 69.      , 41.234375, 47.921875, 92.203125,\n",
       "       91.03125 , 48.828125, 68.453125, 77.421875, 88.796875, 54.375   ,\n",
       "       43.703125, 98.359375, 75.703125, 50.046875, 60.234375, 55.734375,\n",
       "       42.890625, 56.640625, 77.265625, 93.578125, 52.625   , 49.328125,\n",
       "       69.640625, 67.5     , 90.6875  , 79.75    , 89.640625, 81.6875  ,\n",
       "       58.328125, 53.046875, 71.890625, 83.734375, 61.328125, 65.921875,\n",
       "       53.796875, 77.546875, 80.984375, 91.03125 , 41.734375, 60.0625  ,\n",
       "       48.671875, 79.75    , 60.234375, 51.109375, 66.78125 , 71.890625,\n",
       "       73.09375 , 77.484375, 81.171875, 48.671875, 70.015625, 75.140625,\n",
       "       89.640625, 77.421875, 88.296875, 68.5     , 93.84375 , 56.015625,\n",
       "       90.6875  , 57.234375, 71.84375 , 58.328125, 72.296875, 68.921875,\n",
       "       78.4375  , 59.75    , 75.65625 , 68.421875, 78.140625, 73.65625 ,\n",
       "       93.359375, 47.921875, 49.171875, 77.765625, 77.421875, 78.40625 ,\n",
       "       60.734375, 55.515625, 41.234375, 77.125   , 93.84375 , 56.734375,\n",
       "       81.140625, 56.640625, 73.15625 , 54.375   , 81.6875  , 83.078125,\n",
       "       88.796875, 88.796875, 57.609375, 62.734375, 84.34375 , 91.03125 ,\n",
       "       59.65625 , 60.828125, 77.65625 , 48.40625 , 79.765625, 56.140625,\n",
       "       93.359375, 76.703125, 61.609375, 76.921875, 44.109375, 56.734375,\n",
       "       42.890625, 49.453125, 61.328125, 65.921875, 88.296875, 80.484375,\n",
       "       81.171875, 75.65625 , 82.46875 , 73.65625 , 50.625   , 68.      ,\n",
       "       60.734375, 66.421875, 49.171875, 49.453125, 46.96875 , 48.828125,\n",
       "       69.9375  , 50.078125, 94.078125, 73.765625, 71.453125, 57.234375,\n",
       "       59.203125, 77.265625, 44.609375, 54.078125, 77.65625 , 83.734375,\n",
       "       55.515625, 48.671875, 59.203125, 78.140625, 72.796875, 69.296875,\n",
       "       93.84375 , 62.21875 , 73.09375 , 94.078125, 49.171875, 53.046875,\n",
       "       63.40625 , 72.484375, 89.640625, 58.015625, 61.609375, 84.359375,\n",
       "       65.921875, 75.65625 , 60.828125, 57.78125 , 82.46875 , 82.984375,\n",
       "       61.125   ])"
      ]
     },
     "execution_count": 67,
     "metadata": {},
     "output_type": "execute_result"
    }
   ],
   "source": [
    "y_pred"
   ]
  },
  {
   "cell_type": "code",
   "execution_count": null,
   "id": "daeb7a75",
   "metadata": {},
   "outputs": [],
   "source": [
    "model."
   ]
  },
  {
   "cell_type": "markdown",
   "id": "3JE1D2KnU8Jb",
   "metadata": {
    "id": "3JE1D2KnU8Jb"
   },
   "source": [
    "## tree"
   ]
  },
  {
   "cell_type": "code",
   "execution_count": null,
   "id": "jrR7TvntU-S7",
   "metadata": {
    "colab": {
     "base_uri": "https://localhost:8080/"
    },
    "executionInfo": {
     "elapsed": 997,
     "status": "ok",
     "timestamp": 1629945878500,
     "user": {
      "displayName": "todaycode오늘코드",
      "photoUrl": "https://lh3.googleusercontent.com/a-/AOh14GgLiO5i_xXRR_qAG77avSrsWiiI4KHJR6t4xysb=s64",
      "userId": "06313463015165663090"
     },
     "user_tz": -540
    },
    "id": "jrR7TvntU-S7",
    "outputId": "8b654fa4-f6d4-4144-8bc5-818f9bb0a43e"
   },
   "outputs": [],
   "source": [
    "from xgboost import XGBRFRegressor\n",
    "\n",
    "xgb = XGBRFRegressor()\n",
    "xgb.fit(X_train, y_train)\n",
    "y_pred = xgb.predict(X_test)\n",
    "xgb.score(X_test, y_test) * 100"
   ]
  },
  {
   "cell_type": "code",
   "execution_count": null,
   "id": "K7ktmJdzVpKY",
   "metadata": {
    "colab": {
     "base_uri": "https://localhost:8080/"
    },
    "executionInfo": {
     "elapsed": 406,
     "status": "ok",
     "timestamp": 1629945885479,
     "user": {
      "displayName": "todaycode오늘코드",
      "photoUrl": "https://lh3.googleusercontent.com/a-/AOh14GgLiO5i_xXRR_qAG77avSrsWiiI4KHJR6t4xysb=s64",
      "userId": "06313463015165663090"
     },
     "user_tz": -540
    },
    "id": "K7ktmJdzVpKY",
    "outputId": "6367efb1-75e7-48ee-f844-15393d7157ad"
   },
   "outputs": [],
   "source": [
    "from lightgbm import LGBMRegressor\n",
    "\n",
    "lgbm = LGBMRegressor()\n",
    "lgbm.fit(X_train, y_train)\n",
    "y_pred = lgbm.predict(X_test)\n",
    "lgbm.score(X_test, y_test) * 100"
   ]
  },
  {
   "cell_type": "markdown",
   "id": "3b6af0ba",
   "metadata": {
    "id": "3b6af0ba"
   },
   "source": [
    "## school_setting, school_type, lunch"
   ]
  },
  {
   "cell_type": "code",
   "execution_count": null,
   "id": "fcbe10ea",
   "metadata": {
    "executionInfo": {
     "elapsed": 370,
     "status": "ok",
     "timestamp": 1629944400026,
     "user": {
      "displayName": "todaycode오늘코드",
      "photoUrl": "https://lh3.googleusercontent.com/a-/AOh14GgLiO5i_xXRR_qAG77avSrsWiiI4KHJR6t4xysb=s64",
      "userId": "06313463015165663090"
     },
     "user_tz": -540
    },
    "id": "fcbe10ea"
   },
   "outputs": [],
   "source": []
  },
  {
   "cell_type": "code",
   "execution_count": null,
   "id": "b8624d44",
   "metadata": {
    "colab": {
     "base_uri": "https://localhost:8080/",
     "height": 200
    },
    "executionInfo": {
     "elapsed": 5,
     "status": "ok",
     "timestamp": 1629944401666,
     "user": {
      "displayName": "todaycode오늘코드",
      "photoUrl": "https://lh3.googleusercontent.com/a-/AOh14GgLiO5i_xXRR_qAG77avSrsWiiI4KHJR6t4xysb=s64",
      "userId": "06313463015165663090"
     },
     "user_tz": -540
    },
    "id": "b8624d44",
    "outputId": "72049938-2e6d-49ed-b44d-cb478793a56b"
   },
   "outputs": [],
   "source": [
    "#three_df = clear_df[[\"school_type\", \"n_student\",\"lunch\", \"posttest\"]]\n",
    "three_df = clear_df.drop([\"classroom\"], axis=1).copy()\n",
    "three_df.head()"
   ]
  },
  {
   "cell_type": "code",
   "execution_count": null,
   "id": "be22fc25",
   "metadata": {
    "colab": {
     "base_uri": "https://localhost:8080/",
     "height": 290
    },
    "executionInfo": {
     "elapsed": 750,
     "status": "ok",
     "timestamp": 1629944404141,
     "user": {
      "displayName": "todaycode오늘코드",
      "photoUrl": "https://lh3.googleusercontent.com/a-/AOh14GgLiO5i_xXRR_qAG77avSrsWiiI4KHJR6t4xysb=s64",
      "userId": "06313463015165663090"
     },
     "user_tz": -540
    },
    "id": "be22fc25",
    "outputId": "7a849675-1114-4bd6-9cbf-46ccd287b449"
   },
   "outputs": [],
   "source": [
    "three_df.describe()"
   ]
  },
  {
   "cell_type": "code",
   "execution_count": null,
   "id": "be26e588",
   "metadata": {
    "colab": {
     "base_uri": "https://localhost:8080/",
     "height": 348
    },
    "executionInfo": {
     "elapsed": 7,
     "status": "ok",
     "timestamp": 1629944406678,
     "user": {
      "displayName": "todaycode오늘코드",
      "photoUrl": "https://lh3.googleusercontent.com/a-/AOh14GgLiO5i_xXRR_qAG77avSrsWiiI4KHJR6t4xysb=s64",
      "userId": "06313463015165663090"
     },
     "user_tz": -540
    },
    "id": "be26e588",
    "outputId": "95eb4920-6b58-4ea3-822f-35b35650b0cc"
   },
   "outputs": [],
   "source": [
    "sns.distplot(three_df[\"n_student\"])"
   ]
  },
  {
   "cell_type": "code",
   "execution_count": null,
   "id": "4c569e04",
   "metadata": {
    "executionInfo": {
     "elapsed": 406,
     "status": "ok",
     "timestamp": 1629944410141,
     "user": {
      "displayName": "todaycode오늘코드",
      "photoUrl": "https://lh3.googleusercontent.com/a-/AOh14GgLiO5i_xXRR_qAG77avSrsWiiI4KHJR6t4xysb=s64",
      "userId": "06313463015165663090"
     },
     "user_tz": -540
    },
    "id": "4c569e04"
   },
   "outputs": [],
   "source": [
    "x = three_df.drop([\"posttest\", \"pretest\"], axis=1)\n",
    "y = three_df[\"posttest\"]\n",
    "\n",
    "X_train, X_test, y_train, y_test = train_test_split(x,y,test_size=0.2, random_state = 123)"
   ]
  },
  {
   "cell_type": "code",
   "execution_count": null,
   "id": "cc22fae9",
   "metadata": {
    "id": "cc22fae9"
   },
   "outputs": [],
   "source": [
    "model_three = LinearRegression()"
   ]
  },
  {
   "cell_type": "code",
   "execution_count": null,
   "id": "7f210862",
   "metadata": {
    "id": "7f210862"
   },
   "outputs": [],
   "source": [
    "model_three.fit(X_train, y_train)\n",
    "y_pred = model_three.predict(X_test)"
   ]
  },
  {
   "cell_type": "code",
   "execution_count": null,
   "id": "979571a1",
   "metadata": {
    "id": "979571a1",
    "outputId": "d868c4b3-7cf9-4ef4-e864-bc83fae67fcd"
   },
   "outputs": [],
   "source": [
    "model_three.score(X_test, y_test) * 100"
   ]
  },
  {
   "cell_type": "markdown",
   "id": "b9fa2df3",
   "metadata": {
    "id": "b9fa2df3"
   },
   "source": [
    "## Logistic Regression"
   ]
  },
  {
   "cell_type": "code",
   "execution_count": null,
   "id": "7d17b901",
   "metadata": {
    "executionInfo": {
     "elapsed": 527,
     "status": "ok",
     "timestamp": 1629945411779,
     "user": {
      "displayName": "todaycode오늘코드",
      "photoUrl": "https://lh3.googleusercontent.com/a-/AOh14GgLiO5i_xXRR_qAG77avSrsWiiI4KHJR6t4xysb=s64",
      "userId": "06313463015165663090"
     },
     "user_tz": -540
    },
    "id": "7d17b901"
   },
   "outputs": [],
   "source": [
    "from sklearn.linear_model import LogisticRegression\n",
    "\n",
    "model_log = LogisticRegression(max_iter=100000)"
   ]
  },
  {
   "cell_type": "code",
   "execution_count": null,
   "id": "edaa0652",
   "metadata": {
    "colab": {
     "base_uri": "https://localhost:8080/",
     "height": 312
    },
    "executionInfo": {
     "elapsed": 2257,
     "status": "error",
     "timestamp": 1629945557458,
     "user": {
      "displayName": "todaycode오늘코드",
      "photoUrl": "https://lh3.googleusercontent.com/a-/AOh14GgLiO5i_xXRR_qAG77avSrsWiiI4KHJR6t4xysb=s64",
      "userId": "06313463015165663090"
     },
     "user_tz": -540
    },
    "id": "edaa0652",
    "outputId": "0c876805-14a3-4127-df15-512d7beed3ec"
   },
   "outputs": [],
   "source": [
    "model_log.fit(X_train, y_train)\n",
    "y_pred_log = model_log.predict(X_test)"
   ]
  },
  {
   "cell_type": "code",
   "execution_count": null,
   "id": "c908d941",
   "metadata": {
    "executionInfo": {
     "elapsed": 4,
     "status": "aborted",
     "timestamp": 1629945553956,
     "user": {
      "displayName": "todaycode오늘코드",
      "photoUrl": "https://lh3.googleusercontent.com/a-/AOh14GgLiO5i_xXRR_qAG77avSrsWiiI4KHJR6t4xysb=s64",
      "userId": "06313463015165663090"
     },
     "user_tz": -540
    },
    "id": "c908d941"
   },
   "outputs": [],
   "source": [
    "model_log.score(X_test, y_test) * 100"
   ]
  },
  {
   "cell_type": "code",
   "execution_count": null,
   "id": "111d8f96",
   "metadata": {
    "id": "111d8f96"
   },
   "outputs": [],
   "source": []
  },
  {
   "cell_type": "code",
   "execution_count": null,
   "id": "b24eed5e",
   "metadata": {},
   "outputs": [],
   "source": []
  },
  {
   "cell_type": "code",
   "execution_count": null,
   "id": "906f86c2",
   "metadata": {},
   "outputs": [],
   "source": []
  }
 ],
 "metadata": {
  "colab": {
   "collapsed_sections": [
    "b9fa2df3"
   ],
   "name": "test-scores - Nayeon Kim.ipynb",
   "provenance": []
  },
  "hide_input": false,
  "kernelspec": {
   "display_name": "Python 3",
   "language": "python",
   "name": "python3"
  },
  "language_info": {
   "codemirror_mode": {
    "name": "ipython",
    "version": 3
   },
   "file_extension": ".py",
   "mimetype": "text/x-python",
   "name": "python",
   "nbconvert_exporter": "python",
   "pygments_lexer": "ipython3",
   "version": "3.8.8"
  },
  "toc": {
   "base_numbering": 1,
   "nav_menu": {},
   "number_sections": true,
   "sideBar": true,
   "skip_h1_title": false,
   "title_cell": "Table of Contents",
   "title_sidebar": "Contents",
   "toc_cell": false,
   "toc_position": {
    "height": "calc(100% - 180px)",
    "left": "10px",
    "top": "150px",
    "width": "251.797px"
   },
   "toc_section_display": true,
   "toc_window_display": false
  },
  "varInspector": {
   "cols": {
    "lenName": 16,
    "lenType": 16,
    "lenVar": 40
   },
   "kernels_config": {
    "python": {
     "delete_cmd_postfix": "",
     "delete_cmd_prefix": "del ",
     "library": "var_list.py",
     "varRefreshCmd": "print(var_dic_list())"
    },
    "r": {
     "delete_cmd_postfix": ") ",
     "delete_cmd_prefix": "rm(",
     "library": "var_list.r",
     "varRefreshCmd": "cat(var_dic_list()) "
    }
   },
   "types_to_exclude": [
    "module",
    "function",
    "builtin_function_or_method",
    "instance",
    "_Feature"
   ],
   "window_display": false
  }
 },
 "nbformat": 4,
 "nbformat_minor": 5
}
